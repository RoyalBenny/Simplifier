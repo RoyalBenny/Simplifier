{
  "nbformat": 4,
  "nbformat_minor": 0,
  "metadata": {
    "colab": {
      "name": "train_file_12_jun.ipynb",
      "provenance": []
    },
    "kernelspec": {
      "name": "python3",
      "display_name": "Python 3"
    },
    "language_info": {
      "name": "python"
    },
    "accelerator": "GPU"
  },
  "cells": [
    {
      "cell_type": "code",
      "metadata": {
        "colab": {
          "base_uri": "https://localhost:8080/"
        },
        "id": "mgxa0zVc5Jfd",
        "outputId": "52034f67-0df4-4bfa-8816-0a9213ddb1cc"
      },
      "source": [
        "from google.colab import drive\n",
        "drive.mount('/content/drive')"
      ],
      "execution_count": 1,
      "outputs": [
        {
          "output_type": "stream",
          "text": [
            "Mounted at /content/drive\n"
          ],
          "name": "stdout"
        }
      ]
    },
    {
      "cell_type": "code",
      "metadata": {
        "id": "317CWqLM5LA8"
      },
      "source": [
        "import re\n",
        "import numpy as np\n",
        "import pandas as pd \n",
        "from collections import defaultdict\n",
        "from sklearn.preprocessing import StandardScaler\n",
        "import matplotlib.pyplot as plt\n",
        "\n",
        "from keras.preprocessing.text import Tokenizer\n",
        "from keras.preprocessing.sequence import pad_sequences\n",
        "from keras.layers import Dense, Input, Embedding, Dropout, LSTM,Conv1D, GlobalMaxPooling1D\n",
        "from keras.layers.merge import concatenate\n",
        "from keras.models import Model\n",
        "from keras.layers.normalization import BatchNormalization\n",
        "from keras.callbacks import EarlyStopping, ModelCheckpoint\n"
      ],
      "execution_count": 2,
      "outputs": []
    },
    {
      "cell_type": "code",
      "metadata": {
        "id": "lFbcVfog5Pge"
      },
      "source": [
        "EMBEDDING_FILE = 'glove.840B.300d.txt'\n",
        "TRAIN_DATA_FILE = 'train.csv.zip'\n",
        "TEST_DATA_FILE = 'new_test.csv'"
      ],
      "execution_count": 3,
      "outputs": []
    },
    {
      "cell_type": "code",
      "metadata": {
        "id": "PSkYgV425S6i"
      },
      "source": [
        "MAX_LEN = 60\n",
        "MAX_NUM_WORDS = 200000  \n",
        "EMBEDDING_DIM = 300 \n",
        "VALIDATION_SPLIT_RATE = 0.1 \n",
        "HIDDEN_SIZE = 180 \n",
        "DENSE_SIZE = 128  \n",
        "DROPOUT_RATE_LSTM = 0.1655 \n",
        "DROUPOUT_RATE_DENSE = 0.2939  \n",
        "ACTIVATION_FUNCTION = 'relu'"
      ],
      "execution_count": 4,
      "outputs": []
    },
    {
      "cell_type": "code",
      "metadata": {
        "id": "h-2eUHj95VhV"
      },
      "source": [
        "def text_to_wordlist(sentence):\n",
        "    \n",
        "    sentence = sentence.lower().split()\n",
        "    sentence = \" \".join(sentence)\n",
        "\n",
        "    sentence = re.sub(r\"coronavirus\", \"corona virus 2019\", sentence)\n",
        "    sentence = re.sub(r\"covid-19\", \"corona virus 2019\", sentence)\n",
        "    sentence = re.sub(r\"covid - 19\", \"corona virus 2019\", sentence)\n",
        "    sentence = re.sub(r\"[^A-Za-z0-9^,!.\\/'+-=]\", \" \", sentence)\n",
        "    sentence = re.sub(r\"what's\", \"what is \", sentence)\n",
        "    sentence = re.sub(r\"\\'s\", \" \", sentence)\n",
        "    sentence = re.sub(r\"\\'ve\", \" have \", sentence)\n",
        "    sentence = re.sub(r\"can't\", \"cannot \", sentence)\n",
        "    sentence = re.sub(r\"n't\", \" not \", sentence)\n",
        "    sentence = re.sub(r\"i'm\", \"i am \", sentence)\n",
        "    sentence = re.sub(r\"\\'re\", \" are \", sentence)\n",
        "    sentence = re.sub(r\"\\'d\", \" would \", sentence)\n",
        "    sentence = re.sub(r\"\\'ll\", \" will \", sentence)\n",
        "    sentence = re.sub(r\",\", \" \", sentence)\n",
        "    sentence = re.sub(r\"\\.\", \" \", sentence)\n",
        "    sentence = re.sub(r\"!\", \" ! \", sentence)\n",
        "    sentence = re.sub(r\"\\/\", \" \", sentence)\n",
        "    sentence = re.sub(r\"\\^\", \" ^ \", sentence)\n",
        "    sentence = re.sub(r\"\\+\", \" + \", sentence)\n",
        "    sentence = re.sub(r\"\\-\", \" - \", sentence)\n",
        "    sentence = re.sub(r\"\\=\", \" = \", sentence)\n",
        "    sentence = re.sub(r\"'\", \" \", sentence)\n",
        "    sentence = re.sub(r\":\", \" : \", sentence)\n",
        "    sentence = re.sub(r\"(\\d+)(k)\", r\"\\g<1>000\", sentence)\n",
        "    sentence = re.sub(r\" e g \", \" eg \", sentence)\n",
        "    sentence = re.sub(r\" b g \", \" bg \", sentence)\n",
        "    sentence = re.sub(r\" u s \", \" american \", sentence)\n",
        "    sentence = re.sub(r\" 9 11 \", \"911\", sentence)\n",
        "    sentence = re.sub(r\"e - mail\", \"email\", sentence)\n",
        "    sentence = re.sub(r\"j k\", \"jk\", sentence)\n",
        "    sentence = re.sub(r\"\\s{2,}\", \" \", sentence)\n",
        "    \n",
        "    return sentence\n"
      ],
      "execution_count": 5,
      "outputs": []
    },
    {
      "cell_type": "code",
      "metadata": {
        "id": "kWcEHF-05eqU"
      },
      "source": [
        "embeddings_index = {}\n",
        "f = open(EMBEDDING_FILE, encoding='utf-8')\n",
        "for line in f:  \n",
        "    values = line.split()\n",
        "    word = ''.join(values[:-300])\n",
        "    embeddings_index[word] = np.asarray(values[-300:], dtype='float32')\n",
        "f.close()"
      ],
      "execution_count": 6,
      "outputs": []
    },
    {
      "cell_type": "code",
      "metadata": {
        "colab": {
          "base_uri": "https://localhost:8080/"
        },
        "id": "x6eyj-Y35hTg",
        "outputId": "80b78db0-18bb-4f22-9ce9-1a7aef2c165c"
      },
      "source": [
        "train_ques_1 = list()  \n",
        "train_ques_2 = list()  \n",
        "\n",
        "df_train = pd.read_csv(TRAIN_DATA_FILE, encoding='utf-8')\n",
        "df_train = df_train.fillna('empty')\n",
        "train_labels = df_train.is_duplicate.values\n",
        "\n",
        "for text in df_train.question1.values:\n",
        "    train_ques_1.append(text_to_wordlist(text))\n",
        "    \n",
        "for text in df_train.question2.values:\n",
        "    train_ques_2.append(text_to_wordlist(text))\n",
        "\n",
        "print('{} words in train file'.format(len(train_ques_1)))"
      ],
      "execution_count": 7,
      "outputs": [
        {
          "output_type": "stream",
          "text": [
            "404280 words in train file\n"
          ],
          "name": "stdout"
        }
      ]
    },
    {
      "cell_type": "code",
      "metadata": {
        "colab": {
          "base_uri": "https://localhost:8080/",
          "height": 203
        },
        "id": "vj1vLLck53L8",
        "outputId": "c934ea31-3400-4a54-e06e-94a222dd57a4"
      },
      "source": [
        "df_train.head()"
      ],
      "execution_count": 9,
      "outputs": [
        {
          "output_type": "execute_result",
          "data": {
            "text/html": [
              "<div>\n",
              "<style scoped>\n",
              "    .dataframe tbody tr th:only-of-type {\n",
              "        vertical-align: middle;\n",
              "    }\n",
              "\n",
              "    .dataframe tbody tr th {\n",
              "        vertical-align: top;\n",
              "    }\n",
              "\n",
              "    .dataframe thead th {\n",
              "        text-align: right;\n",
              "    }\n",
              "</style>\n",
              "<table border=\"1\" class=\"dataframe\">\n",
              "  <thead>\n",
              "    <tr style=\"text-align: right;\">\n",
              "      <th></th>\n",
              "      <th>id</th>\n",
              "      <th>qid1</th>\n",
              "      <th>qid2</th>\n",
              "      <th>question1</th>\n",
              "      <th>question2</th>\n",
              "      <th>is_duplicate</th>\n",
              "    </tr>\n",
              "  </thead>\n",
              "  <tbody>\n",
              "    <tr>\n",
              "      <th>0</th>\n",
              "      <td>0</td>\n",
              "      <td>1</td>\n",
              "      <td>2</td>\n",
              "      <td>What is the step by step guide to invest in sh...</td>\n",
              "      <td>What is the step by step guide to invest in sh...</td>\n",
              "      <td>0</td>\n",
              "    </tr>\n",
              "    <tr>\n",
              "      <th>1</th>\n",
              "      <td>1</td>\n",
              "      <td>3</td>\n",
              "      <td>4</td>\n",
              "      <td>What is the story of Kohinoor (Koh-i-Noor) Dia...</td>\n",
              "      <td>What would happen if the Indian government sto...</td>\n",
              "      <td>0</td>\n",
              "    </tr>\n",
              "    <tr>\n",
              "      <th>2</th>\n",
              "      <td>2</td>\n",
              "      <td>5</td>\n",
              "      <td>6</td>\n",
              "      <td>How can I increase the speed of my internet co...</td>\n",
              "      <td>How can Internet speed be increased by hacking...</td>\n",
              "      <td>0</td>\n",
              "    </tr>\n",
              "    <tr>\n",
              "      <th>3</th>\n",
              "      <td>3</td>\n",
              "      <td>7</td>\n",
              "      <td>8</td>\n",
              "      <td>Why am I mentally very lonely? How can I solve...</td>\n",
              "      <td>Find the remainder when [math]23^{24}[/math] i...</td>\n",
              "      <td>0</td>\n",
              "    </tr>\n",
              "    <tr>\n",
              "      <th>4</th>\n",
              "      <td>4</td>\n",
              "      <td>9</td>\n",
              "      <td>10</td>\n",
              "      <td>Which one dissolve in water quikly sugar, salt...</td>\n",
              "      <td>Which fish would survive in salt water?</td>\n",
              "      <td>0</td>\n",
              "    </tr>\n",
              "  </tbody>\n",
              "</table>\n",
              "</div>"
            ],
            "text/plain": [
              "   id  qid1  ...                                          question2 is_duplicate\n",
              "0   0     1  ...  What is the step by step guide to invest in sh...            0\n",
              "1   1     3  ...  What would happen if the Indian government sto...            0\n",
              "2   2     5  ...  How can Internet speed be increased by hacking...            0\n",
              "3   3     7  ...  Find the remainder when [math]23^{24}[/math] i...            0\n",
              "4   4     9  ...            Which fish would survive in salt water?            0\n",
              "\n",
              "[5 rows x 6 columns]"
            ]
          },
          "metadata": {
            "tags": []
          },
          "execution_count": 9
        }
      ]
    },
    {
      "cell_type": "code",
      "metadata": {
        "colab": {
          "base_uri": "https://localhost:8080/"
        },
        "id": "7o5to6or55e9",
        "outputId": "267ef7ab-d33a-49d1-99dc-ebc98cb8617f"
      },
      "source": [
        "test_ques_1 = list()  \n",
        "test_ques_2 = list()  \n",
        "\n",
        "df_test = pd.read_csv(TEST_DATA_FILE, encoding='utf-8')  #read only 500 items\n",
        "df_test = df_test.fillna('empty')\n",
        "# test_ids = df_test.test_id.values\n",
        "test_ids = df_test.test_id.values  \n",
        "\n",
        "for text in df_test.question1.values:\n",
        "    test_ques_1.append(text_to_wordlist(text))\n",
        "    \n",
        "for text in df_test.question2.values:\n",
        "    test_ques_2.append(text_to_wordlist(text))\n",
        "    \n",
        "print('{} words in test file'.format(len(test_ques_1)))"
      ],
      "execution_count": 12,
      "outputs": [
        {
          "output_type": "stream",
          "text": [
            "501 words in test file\n"
          ],
          "name": "stdout"
        }
      ]
    },
    {
      "cell_type": "code",
      "metadata": {
        "colab": {
          "base_uri": "https://localhost:8080/",
          "height": 203
        },
        "id": "BHsWkxBB6AxU",
        "outputId": "5979e044-d193-4ef3-c0ff-f7e3c2363768"
      },
      "source": [
        "df_test.head()"
      ],
      "execution_count": 13,
      "outputs": [
        {
          "output_type": "execute_result",
          "data": {
            "text/html": [
              "<div>\n",
              "<style scoped>\n",
              "    .dataframe tbody tr th:only-of-type {\n",
              "        vertical-align: middle;\n",
              "    }\n",
              "\n",
              "    .dataframe tbody tr th {\n",
              "        vertical-align: top;\n",
              "    }\n",
              "\n",
              "    .dataframe thead th {\n",
              "        text-align: right;\n",
              "    }\n",
              "</style>\n",
              "<table border=\"1\" class=\"dataframe\">\n",
              "  <thead>\n",
              "    <tr style=\"text-align: right;\">\n",
              "      <th></th>\n",
              "      <th>test_id</th>\n",
              "      <th>question1</th>\n",
              "      <th>question2</th>\n",
              "    </tr>\n",
              "  </thead>\n",
              "  <tbody>\n",
              "    <tr>\n",
              "      <th>0</th>\n",
              "      <td>0</td>\n",
              "      <td>How does the Surface Pro himself 4 compare wit...</td>\n",
              "      <td>Why did Microsoft choose core m3 and not core ...</td>\n",
              "    </tr>\n",
              "    <tr>\n",
              "      <th>1</th>\n",
              "      <td>1</td>\n",
              "      <td>Should I have a hair transplant at age 24? How...</td>\n",
              "      <td>How much cost does hair transplant require?</td>\n",
              "    </tr>\n",
              "    <tr>\n",
              "      <th>2</th>\n",
              "      <td>2</td>\n",
              "      <td>What but is the best way to send money from Ch...</td>\n",
              "      <td>What you send money to China?</td>\n",
              "    </tr>\n",
              "    <tr>\n",
              "      <th>3</th>\n",
              "      <td>3</td>\n",
              "      <td>Which food not emulsifiers?</td>\n",
              "      <td>What foods fibre?</td>\n",
              "    </tr>\n",
              "    <tr>\n",
              "      <th>4</th>\n",
              "      <td>4</td>\n",
              "      <td>How \"aberystwyth\" start reading?</td>\n",
              "      <td>How their can I start reading?</td>\n",
              "    </tr>\n",
              "  </tbody>\n",
              "</table>\n",
              "</div>"
            ],
            "text/plain": [
              "   test_id  ...                                          question2\n",
              "0        0  ...  Why did Microsoft choose core m3 and not core ...\n",
              "1        1  ...        How much cost does hair transplant require?\n",
              "2        2  ...                      What you send money to China?\n",
              "3        3  ...                                  What foods fibre?\n",
              "4        4  ...                     How their can I start reading?\n",
              "\n",
              "[5 rows x 3 columns]"
            ]
          },
          "metadata": {
            "tags": []
          },
          "execution_count": 13
        }
      ]
    },
    {
      "cell_type": "code",
      "metadata": {
        "id": "aN88TqL66CtH"
      },
      "source": [
        "tokenizer = Tokenizer(num_words=MAX_NUM_WORDS)\n",
        "tokenizer.fit_on_texts(train_ques_1 + train_ques_2 + test_ques_1 + test_ques_2 )   #fit each words to the tokenizer"
      ],
      "execution_count": 14,
      "outputs": []
    },
    {
      "cell_type": "code",
      "metadata": {
        "id": "CPbLzGHP6jeK"
      },
      "source": [
        "#convert each word into corresponding sequence\n",
        "train_ques_1 = tokenizer.texts_to_sequences(train_ques_1)  \n",
        "train_ques_2 = tokenizer.texts_to_sequences(train_ques_2)  \n",
        "test_ques_1 = tokenizer.texts_to_sequences(test_ques_1)  \n",
        "test_ques_2 = tokenizer.texts_to_sequences(test_ques_2)  \n"
      ],
      "execution_count": 15,
      "outputs": []
    },
    {
      "cell_type": "code",
      "metadata": {
        "colab": {
          "base_uri": "https://localhost:8080/"
        },
        "id": "oDSDWZCx6mZJ",
        "outputId": "ebc5842b-ba8e-4554-d91b-64fddc61ef20"
      },
      "source": [
        "word_index = tokenizer.word_index\n",
        "print('{} unique words/tokens present'.format(len(word_index)))"
      ],
      "execution_count": 16,
      "outputs": [
        {
          "output_type": "stream",
          "text": [
            "85569 unique words/tokens present\n"
          ],
          "name": "stdout"
        }
      ]
    },
    {
      "cell_type": "code",
      "metadata": {
        "id": "4VgmLgdu6oUf"
      },
      "source": [
        "import pickle\n",
        "\n",
        "# saving\n",
        "with open('tokenizer.pickle', 'wb') as handle:\n",
        "    pickle.dump(tokenizer, handle, protocol=pickle.HIGHEST_PROTOCOL)\n",
        "\n",
        "# loading\n",
        "with open('tokenizer.pickle', 'rb') as handle:\n",
        "    tokenizer = pickle.load(handle)\n",
        "word_index = tokenizer.word_index"
      ],
      "execution_count": 17,
      "outputs": []
    },
    {
      "cell_type": "code",
      "metadata": {
        "colab": {
          "base_uri": "https://localhost:8080/"
        },
        "id": "xkbyPH336sV1",
        "outputId": "2c8250dc-ce12-4ee7-adcd-b8e5390578f6"
      },
      "source": [
        "train_ques_1 = pad_sequences(train_ques_1, maxlen=MAX_LEN)\n",
        "train_ques_2 = pad_sequences(train_ques_2, maxlen=MAX_LEN)\n",
        "print('Shape of train data tensor:', train_ques_1.shape)\n",
        "print('Shape of train labels tensor:', train_labels.shape)"
      ],
      "execution_count": 18,
      "outputs": [
        {
          "output_type": "stream",
          "text": [
            "Shape of train data tensor: (404280, 60)\n",
            "Shape of train labels tensor: (404280,)\n"
          ],
          "name": "stdout"
        }
      ]
    },
    {
      "cell_type": "code",
      "metadata": {
        "colab": {
          "base_uri": "https://localhost:8080/"
        },
        "id": "mqqnOIxb6vI2",
        "outputId": "170bf6fc-1f23-4074-89ae-08e4aadf28ce"
      },
      "source": [
        "test_ques_1 = pad_sequences(test_ques_1, maxlen=MAX_LEN)\n",
        "test_ques_2 = pad_sequences(test_ques_2, maxlen=MAX_LEN)\n",
        "print('Shape of test data vtensor:', test_ques_1.shape)\n",
        "print('Shape of test ids tensor:', test_ids.shape)\n"
      ],
      "execution_count": 19,
      "outputs": [
        {
          "output_type": "stream",
          "text": [
            "Shape of test data vtensor: (501, 60)\n",
            "Shape of test ids tensor: (501,)\n"
          ],
          "name": "stdout"
        }
      ]
    },
    {
      "cell_type": "code",
      "metadata": {
        "id": "U9s0wuDC6x7O"
      },
      "source": [
        "questions = pd.concat([df_train[['question1', 'question2']], df_test[['question1', 'question2']]], axis=0).reset_index(drop='index')\n",
        "question_dict = defaultdict(set)\n",
        "for i in range(questions.shape[0]):\n",
        "        question_dict[questions.question1[i]].add(questions.question2[i])\n",
        "        question_dict[questions.question2[i]].add(questions.question1[i])"
      ],
      "execution_count": 20,
      "outputs": []
    },
    {
      "cell_type": "code",
      "metadata": {
        "colab": {
          "base_uri": "https://localhost:8080/"
        },
        "id": "a3g8OX3q60yU",
        "outputId": "57f9e72a-d821-4e1e-b61d-c1f1a5b153a5"
      },
      "source": [
        "len(question_dict)"
      ],
      "execution_count": 21,
      "outputs": [
        {
          "output_type": "execute_result",
          "data": {
            "text/plain": [
              "538300"
            ]
          },
          "metadata": {
            "tags": []
          },
          "execution_count": 21
        }
      ]
    },
    {
      "cell_type": "code",
      "metadata": {
        "id": "dtmM_GG36_RU"
      },
      "source": [
        "# saving\n",
        "with open('q_dict.pickle', 'wb') as handle:\n",
        "    pickle.dump(question_dict, handle, protocol=pickle.HIGHEST_PROTOCOL)"
      ],
      "execution_count": 22,
      "outputs": []
    },
    {
      "cell_type": "code",
      "metadata": {
        "id": "oVInEOk_7K5A"
      },
      "source": [
        "df_train['q1_q2_intersect'] = df_train.apply(lambda row : len(set(question_dict[row[3]]).intersection(set(question_dict[row[4]]))) , axis=1, raw=True)\n",
        "df_train['ques1_freq'] = df_train.apply(lambda row: len(question_dict.get(row[3])) , axis=1, raw=True)\n",
        "df_train['ques2_freq'] = df_train.apply(lambda row: len(question_dict.get(row[4])), axis=1, raw=True)"
      ],
      "execution_count": 23,
      "outputs": []
    },
    {
      "cell_type": "code",
      "metadata": {
        "colab": {
          "base_uri": "https://localhost:8080/",
          "height": 270
        },
        "id": "Eigt5xIL7Ofa",
        "outputId": "daddc8ee-f55a-48fc-b83f-c4bf0be029f3"
      },
      "source": [
        "df_train.head()"
      ],
      "execution_count": 24,
      "outputs": [
        {
          "output_type": "execute_result",
          "data": {
            "text/html": [
              "<div>\n",
              "<style scoped>\n",
              "    .dataframe tbody tr th:only-of-type {\n",
              "        vertical-align: middle;\n",
              "    }\n",
              "\n",
              "    .dataframe tbody tr th {\n",
              "        vertical-align: top;\n",
              "    }\n",
              "\n",
              "    .dataframe thead th {\n",
              "        text-align: right;\n",
              "    }\n",
              "</style>\n",
              "<table border=\"1\" class=\"dataframe\">\n",
              "  <thead>\n",
              "    <tr style=\"text-align: right;\">\n",
              "      <th></th>\n",
              "      <th>id</th>\n",
              "      <th>qid1</th>\n",
              "      <th>qid2</th>\n",
              "      <th>question1</th>\n",
              "      <th>question2</th>\n",
              "      <th>is_duplicate</th>\n",
              "      <th>q1_q2_intersect</th>\n",
              "      <th>ques1_freq</th>\n",
              "      <th>ques2_freq</th>\n",
              "    </tr>\n",
              "  </thead>\n",
              "  <tbody>\n",
              "    <tr>\n",
              "      <th>0</th>\n",
              "      <td>0</td>\n",
              "      <td>1</td>\n",
              "      <td>2</td>\n",
              "      <td>What is the step by step guide to invest in sh...</td>\n",
              "      <td>What is the step by step guide to invest in sh...</td>\n",
              "      <td>0</td>\n",
              "      <td>0</td>\n",
              "      <td>1</td>\n",
              "      <td>1</td>\n",
              "    </tr>\n",
              "    <tr>\n",
              "      <th>1</th>\n",
              "      <td>1</td>\n",
              "      <td>3</td>\n",
              "      <td>4</td>\n",
              "      <td>What is the story of Kohinoor (Koh-i-Noor) Dia...</td>\n",
              "      <td>What would happen if the Indian government sto...</td>\n",
              "      <td>0</td>\n",
              "      <td>0</td>\n",
              "      <td>4</td>\n",
              "      <td>2</td>\n",
              "    </tr>\n",
              "    <tr>\n",
              "      <th>2</th>\n",
              "      <td>2</td>\n",
              "      <td>5</td>\n",
              "      <td>6</td>\n",
              "      <td>How can I increase the speed of my internet co...</td>\n",
              "      <td>How can Internet speed be increased by hacking...</td>\n",
              "      <td>0</td>\n",
              "      <td>0</td>\n",
              "      <td>1</td>\n",
              "      <td>1</td>\n",
              "    </tr>\n",
              "    <tr>\n",
              "      <th>3</th>\n",
              "      <td>3</td>\n",
              "      <td>7</td>\n",
              "      <td>8</td>\n",
              "      <td>Why am I mentally very lonely? How can I solve...</td>\n",
              "      <td>Find the remainder when [math]23^{24}[/math] i...</td>\n",
              "      <td>0</td>\n",
              "      <td>0</td>\n",
              "      <td>1</td>\n",
              "      <td>1</td>\n",
              "    </tr>\n",
              "    <tr>\n",
              "      <th>4</th>\n",
              "      <td>4</td>\n",
              "      <td>9</td>\n",
              "      <td>10</td>\n",
              "      <td>Which one dissolve in water quikly sugar, salt...</td>\n",
              "      <td>Which fish would survive in salt water?</td>\n",
              "      <td>0</td>\n",
              "      <td>0</td>\n",
              "      <td>3</td>\n",
              "      <td>1</td>\n",
              "    </tr>\n",
              "  </tbody>\n",
              "</table>\n",
              "</div>"
            ],
            "text/plain": [
              "   id  qid1  qid2  ... q1_q2_intersect ques1_freq  ques2_freq\n",
              "0   0     1     2  ...               0          1           1\n",
              "1   1     3     4  ...               0          4           2\n",
              "2   2     5     6  ...               0          1           1\n",
              "3   3     7     8  ...               0          1           1\n",
              "4   4     9    10  ...               0          3           1\n",
              "\n",
              "[5 rows x 9 columns]"
            ]
          },
          "metadata": {
            "tags": []
          },
          "execution_count": 24
        }
      ]
    },
    {
      "cell_type": "code",
      "metadata": {
        "id": "Grau9SYaXL6u"
      },
      "source": [
        "# df_test['q1_q2_intersect'] = df_test.apply(lambda row : len(set(question_dict[row[3]]).intersection(set(question_dict[row[4]]))) , axis=1, raw=True)\n",
        "# df_test['ques1_freq'] = df_test.apply(lambda row: len(question_dict.get(row[3])) , axis=1, raw=True)\n",
        "# df_test['ques2_freq'] = df_test.apply(lambda row: len(question_dict.get(row[4])), axis=1, raw=True)"
      ],
      "execution_count": 15,
      "outputs": []
    },
    {
      "cell_type": "code",
      "metadata": {
        "id": "INrfvX5E7Rer"
      },
      "source": [
        "df_test['q1_q2_intersect'] = df_test.apply(lambda row: len(set(question_dict.get(row[1])).intersection(set(question_dict.get(row[2])))), axis=1, raw=True)\n",
        "df_test['ques1_freq'] = df_test.apply(lambda row: len(question_dict.get(row[1])), axis=1, raw=True)\n",
        "df_test['ques2_freq'] = df_test.apply(lambda row: len(question_dict.get(row[2])), axis=1, raw=True)"
      ],
      "execution_count": 26,
      "outputs": []
    },
    {
      "cell_type": "code",
      "metadata": {
        "colab": {
          "base_uri": "https://localhost:8080/",
          "height": 203
        },
        "id": "jJR6JOOF7Uc0",
        "outputId": "9af35248-2b9e-47de-d538-ba19d6533e68"
      },
      "source": [
        "df_test.head()"
      ],
      "execution_count": 27,
      "outputs": [
        {
          "output_type": "execute_result",
          "data": {
            "text/html": [
              "<div>\n",
              "<style scoped>\n",
              "    .dataframe tbody tr th:only-of-type {\n",
              "        vertical-align: middle;\n",
              "    }\n",
              "\n",
              "    .dataframe tbody tr th {\n",
              "        vertical-align: top;\n",
              "    }\n",
              "\n",
              "    .dataframe thead th {\n",
              "        text-align: right;\n",
              "    }\n",
              "</style>\n",
              "<table border=\"1\" class=\"dataframe\">\n",
              "  <thead>\n",
              "    <tr style=\"text-align: right;\">\n",
              "      <th></th>\n",
              "      <th>test_id</th>\n",
              "      <th>question1</th>\n",
              "      <th>question2</th>\n",
              "      <th>q1_q2_intersect</th>\n",
              "      <th>ques1_freq</th>\n",
              "      <th>ques2_freq</th>\n",
              "    </tr>\n",
              "  </thead>\n",
              "  <tbody>\n",
              "    <tr>\n",
              "      <th>0</th>\n",
              "      <td>0</td>\n",
              "      <td>How does the Surface Pro himself 4 compare wit...</td>\n",
              "      <td>Why did Microsoft choose core m3 and not core ...</td>\n",
              "      <td>0</td>\n",
              "      <td>1</td>\n",
              "      <td>1</td>\n",
              "    </tr>\n",
              "    <tr>\n",
              "      <th>1</th>\n",
              "      <td>1</td>\n",
              "      <td>Should I have a hair transplant at age 24? How...</td>\n",
              "      <td>How much cost does hair transplant require?</td>\n",
              "      <td>0</td>\n",
              "      <td>1</td>\n",
              "      <td>1</td>\n",
              "    </tr>\n",
              "    <tr>\n",
              "      <th>2</th>\n",
              "      <td>2</td>\n",
              "      <td>What but is the best way to send money from Ch...</td>\n",
              "      <td>What you send money to China?</td>\n",
              "      <td>0</td>\n",
              "      <td>1</td>\n",
              "      <td>1</td>\n",
              "    </tr>\n",
              "    <tr>\n",
              "      <th>3</th>\n",
              "      <td>3</td>\n",
              "      <td>Which food not emulsifiers?</td>\n",
              "      <td>What foods fibre?</td>\n",
              "      <td>0</td>\n",
              "      <td>1</td>\n",
              "      <td>1</td>\n",
              "    </tr>\n",
              "    <tr>\n",
              "      <th>4</th>\n",
              "      <td>4</td>\n",
              "      <td>How \"aberystwyth\" start reading?</td>\n",
              "      <td>How their can I start reading?</td>\n",
              "      <td>0</td>\n",
              "      <td>1</td>\n",
              "      <td>1</td>\n",
              "    </tr>\n",
              "  </tbody>\n",
              "</table>\n",
              "</div>"
            ],
            "text/plain": [
              "   test_id  ... ques2_freq\n",
              "0        0  ...          1\n",
              "1        1  ...          1\n",
              "2        2  ...          1\n",
              "3        3  ...          1\n",
              "4        4  ...          1\n",
              "\n",
              "[5 rows x 6 columns]"
            ]
          },
          "metadata": {
            "tags": []
          },
          "execution_count": 27
        }
      ]
    },
    {
      "cell_type": "code",
      "metadata": {
        "colab": {
          "base_uri": "https://localhost:8080/"
        },
        "id": "ynVZDzML7WRY",
        "outputId": "58723946-6664-43c6-8da6-464d17d92503"
      },
      "source": [
        "train_data_features = pd.read_csv('Feature Engineering/Train/feature_nlp+tm.csv')\n",
        "train_data_features = train_data_features.fillna(0)\n",
        "\n",
        "test_data_features = pd.read_csv('Feature Engineering/Test/feature_tm+nlp_test.csv')\n",
        "\n",
        "print('Features(nlp&tm) Loaded')\n",
        "print(len(df_train))\n",
        "print(len(df_test))\n",
        "print(len(train_data_features))\n",
        "print(len(test_data_features))\n",
        "#print(len(df_feature_val))"
      ],
      "execution_count": 29,
      "outputs": [
        {
          "output_type": "stream",
          "text": [
            "Features(nlp&tm) Loaded\n",
            "404280\n",
            "501\n",
            "404290\n",
            "501\n"
          ],
          "name": "stdout"
        }
      ]
    },
    {
      "cell_type": "code",
      "metadata": {
        "colab": {
          "base_uri": "https://localhost:8080/",
          "height": 223
        },
        "id": "MsX8R5mA7bOe",
        "outputId": "e7e7cae4-3dd4-4dbb-d42f-8d72d7dd5db3"
      },
      "source": [
        "train_data_features.head()"
      ],
      "execution_count": 30,
      "outputs": [
        {
          "output_type": "execute_result",
          "data": {
            "text/html": [
              "<div>\n",
              "<style scoped>\n",
              "    .dataframe tbody tr th:only-of-type {\n",
              "        vertical-align: middle;\n",
              "    }\n",
              "\n",
              "    .dataframe tbody tr th {\n",
              "        vertical-align: top;\n",
              "    }\n",
              "\n",
              "    .dataframe thead th {\n",
              "        text-align: right;\n",
              "    }\n",
              "</style>\n",
              "<table border=\"1\" class=\"dataframe\">\n",
              "  <thead>\n",
              "    <tr style=\"text-align: right;\">\n",
              "      <th></th>\n",
              "      <th>id</th>\n",
              "      <th>q1len</th>\n",
              "      <th>q2len</th>\n",
              "      <th>diff_len</th>\n",
              "      <th>len_word_q1</th>\n",
              "      <th>len_word_q2</th>\n",
              "      <th>diff_words</th>\n",
              "      <th>caps_count_q1</th>\n",
              "      <th>caps_count_q2</th>\n",
              "      <th>diff_caps</th>\n",
              "      <th>len_char_q1</th>\n",
              "      <th>len_char_q2</th>\n",
              "      <th>diff_len_char</th>\n",
              "      <th>avg_world_len1</th>\n",
              "      <th>avg_world_len2</th>\n",
              "      <th>diff_avg_word</th>\n",
              "      <th>word_Common</th>\n",
              "      <th>word_Total</th>\n",
              "      <th>word_share</th>\n",
              "      <th>share_2_gram</th>\n",
              "      <th>cwc_min</th>\n",
              "      <th>cwc_max</th>\n",
              "      <th>csc_min</th>\n",
              "      <th>csc_max</th>\n",
              "      <th>ctc_min</th>\n",
              "      <th>ctc_max</th>\n",
              "      <th>last_word_eq</th>\n",
              "      <th>first_word_eq</th>\n",
              "      <th>abs_len_diff</th>\n",
              "      <th>mean_len</th>\n",
              "      <th>token_set_ratio</th>\n",
              "      <th>token_sort_ratio</th>\n",
              "      <th>fuzz_ratio</th>\n",
              "      <th>fuzz_partial_ratio</th>\n",
              "      <th>longest_substr_ratio</th>\n",
              "      <th>word_mover_dist</th>\n",
              "      <th>cosine_dist</th>\n",
              "      <th>cityblock_dist</th>\n",
              "      <th>canberra_dist</th>\n",
              "      <th>euclidean_dist</th>\n",
              "      <th>minkowski_dist</th>\n",
              "    </tr>\n",
              "  </thead>\n",
              "  <tbody>\n",
              "    <tr>\n",
              "      <th>0</th>\n",
              "      <td>0</td>\n",
              "      <td>66</td>\n",
              "      <td>57</td>\n",
              "      <td>9</td>\n",
              "      <td>14</td>\n",
              "      <td>12</td>\n",
              "      <td>2</td>\n",
              "      <td>1</td>\n",
              "      <td>1</td>\n",
              "      <td>0</td>\n",
              "      <td>53</td>\n",
              "      <td>46</td>\n",
              "      <td>7</td>\n",
              "      <td>3.785714</td>\n",
              "      <td>3.833333</td>\n",
              "      <td>-0.047619</td>\n",
              "      <td>10.0</td>\n",
              "      <td>23.0</td>\n",
              "      <td>0.434783</td>\n",
              "      <td>0.416667</td>\n",
              "      <td>0.999980</td>\n",
              "      <td>0.833319</td>\n",
              "      <td>0.999983</td>\n",
              "      <td>0.999983</td>\n",
              "      <td>0.916659</td>\n",
              "      <td>0.785709</td>\n",
              "      <td>0.0</td>\n",
              "      <td>1.0</td>\n",
              "      <td>2.0</td>\n",
              "      <td>13.0</td>\n",
              "      <td>100</td>\n",
              "      <td>93</td>\n",
              "      <td>93</td>\n",
              "      <td>100</td>\n",
              "      <td>0.982759</td>\n",
              "      <td>1.216034</td>\n",
              "      <td>0.031762</td>\n",
              "      <td>14.274065</td>\n",
              "      <td>91.483062</td>\n",
              "      <td>1.047253</td>\n",
              "      <td>1.047253</td>\n",
              "    </tr>\n",
              "    <tr>\n",
              "      <th>1</th>\n",
              "      <td>1</td>\n",
              "      <td>51</td>\n",
              "      <td>88</td>\n",
              "      <td>-37</td>\n",
              "      <td>8</td>\n",
              "      <td>13</td>\n",
              "      <td>-5</td>\n",
              "      <td>5</td>\n",
              "      <td>5</td>\n",
              "      <td>0</td>\n",
              "      <td>44</td>\n",
              "      <td>76</td>\n",
              "      <td>-32</td>\n",
              "      <td>5.500000</td>\n",
              "      <td>5.846154</td>\n",
              "      <td>-0.346154</td>\n",
              "      <td>4.0</td>\n",
              "      <td>20.0</td>\n",
              "      <td>0.200000</td>\n",
              "      <td>0.052632</td>\n",
              "      <td>0.799984</td>\n",
              "      <td>0.399996</td>\n",
              "      <td>0.749981</td>\n",
              "      <td>0.599988</td>\n",
              "      <td>0.699993</td>\n",
              "      <td>0.466664</td>\n",
              "      <td>0.0</td>\n",
              "      <td>1.0</td>\n",
              "      <td>5.0</td>\n",
              "      <td>12.5</td>\n",
              "      <td>86</td>\n",
              "      <td>63</td>\n",
              "      <td>66</td>\n",
              "      <td>75</td>\n",
              "      <td>0.596154</td>\n",
              "      <td>4.897662</td>\n",
              "      <td>0.266555</td>\n",
              "      <td>33.272633</td>\n",
              "      <td>149.670092</td>\n",
              "      <td>2.624989</td>\n",
              "      <td>2.624989</td>\n",
              "    </tr>\n",
              "    <tr>\n",
              "      <th>2</th>\n",
              "      <td>2</td>\n",
              "      <td>73</td>\n",
              "      <td>59</td>\n",
              "      <td>14</td>\n",
              "      <td>14</td>\n",
              "      <td>10</td>\n",
              "      <td>4</td>\n",
              "      <td>5</td>\n",
              "      <td>5</td>\n",
              "      <td>0</td>\n",
              "      <td>60</td>\n",
              "      <td>50</td>\n",
              "      <td>10</td>\n",
              "      <td>4.285714</td>\n",
              "      <td>5.000000</td>\n",
              "      <td>-0.714286</td>\n",
              "      <td>4.0</td>\n",
              "      <td>24.0</td>\n",
              "      <td>0.166667</td>\n",
              "      <td>0.045455</td>\n",
              "      <td>0.399992</td>\n",
              "      <td>0.333328</td>\n",
              "      <td>0.399992</td>\n",
              "      <td>0.249997</td>\n",
              "      <td>0.399996</td>\n",
              "      <td>0.285712</td>\n",
              "      <td>0.0</td>\n",
              "      <td>1.0</td>\n",
              "      <td>4.0</td>\n",
              "      <td>12.0</td>\n",
              "      <td>63</td>\n",
              "      <td>63</td>\n",
              "      <td>43</td>\n",
              "      <td>47</td>\n",
              "      <td>0.166667</td>\n",
              "      <td>4.011556</td>\n",
              "      <td>0.118900</td>\n",
              "      <td>28.457512</td>\n",
              "      <td>129.214660</td>\n",
              "      <td>2.140298</td>\n",
              "      <td>2.140298</td>\n",
              "    </tr>\n",
              "    <tr>\n",
              "      <th>3</th>\n",
              "      <td>3</td>\n",
              "      <td>50</td>\n",
              "      <td>65</td>\n",
              "      <td>-15</td>\n",
              "      <td>11</td>\n",
              "      <td>9</td>\n",
              "      <td>2</td>\n",
              "      <td>4</td>\n",
              "      <td>1</td>\n",
              "      <td>3</td>\n",
              "      <td>40</td>\n",
              "      <td>57</td>\n",
              "      <td>-17</td>\n",
              "      <td>3.636364</td>\n",
              "      <td>6.333333</td>\n",
              "      <td>-2.696970</td>\n",
              "      <td>0.0</td>\n",
              "      <td>19.0</td>\n",
              "      <td>0.000000</td>\n",
              "      <td>0.000000</td>\n",
              "      <td>0.000000</td>\n",
              "      <td>0.000000</td>\n",
              "      <td>0.000000</td>\n",
              "      <td>0.000000</td>\n",
              "      <td>0.000000</td>\n",
              "      <td>0.000000</td>\n",
              "      <td>0.0</td>\n",
              "      <td>0.0</td>\n",
              "      <td>2.0</td>\n",
              "      <td>12.0</td>\n",
              "      <td>28</td>\n",
              "      <td>24</td>\n",
              "      <td>9</td>\n",
              "      <td>14</td>\n",
              "      <td>0.039216</td>\n",
              "      <td>7.514702</td>\n",
              "      <td>0.619671</td>\n",
              "      <td>62.016426</td>\n",
              "      <td>200.899534</td>\n",
              "      <td>4.702347</td>\n",
              "      <td>4.702347</td>\n",
              "    </tr>\n",
              "    <tr>\n",
              "      <th>4</th>\n",
              "      <td>4</td>\n",
              "      <td>76</td>\n",
              "      <td>39</td>\n",
              "      <td>37</td>\n",
              "      <td>13</td>\n",
              "      <td>7</td>\n",
              "      <td>6</td>\n",
              "      <td>1</td>\n",
              "      <td>1</td>\n",
              "      <td>0</td>\n",
              "      <td>64</td>\n",
              "      <td>33</td>\n",
              "      <td>31</td>\n",
              "      <td>4.923077</td>\n",
              "      <td>4.714286</td>\n",
              "      <td>0.208791</td>\n",
              "      <td>2.0</td>\n",
              "      <td>20.0</td>\n",
              "      <td>0.100000</td>\n",
              "      <td>0.000000</td>\n",
              "      <td>0.399992</td>\n",
              "      <td>0.199998</td>\n",
              "      <td>0.999950</td>\n",
              "      <td>0.666644</td>\n",
              "      <td>0.571420</td>\n",
              "      <td>0.307690</td>\n",
              "      <td>0.0</td>\n",
              "      <td>1.0</td>\n",
              "      <td>6.0</td>\n",
              "      <td>10.0</td>\n",
              "      <td>67</td>\n",
              "      <td>47</td>\n",
              "      <td>35</td>\n",
              "      <td>56</td>\n",
              "      <td>0.175000</td>\n",
              "      <td>6.257260</td>\n",
              "      <td>0.244168</td>\n",
              "      <td>40.127296</td>\n",
              "      <td>156.627744</td>\n",
              "      <td>3.145122</td>\n",
              "      <td>3.145122</td>\n",
              "    </tr>\n",
              "  </tbody>\n",
              "</table>\n",
              "</div>"
            ],
            "text/plain": [
              "   id  q1len  q2len  ...  canberra_dist  euclidean_dist  minkowski_dist\n",
              "0   0     66     57  ...      91.483062        1.047253        1.047253\n",
              "1   1     51     88  ...     149.670092        2.624989        2.624989\n",
              "2   2     73     59  ...     129.214660        2.140298        2.140298\n",
              "3   3     50     65  ...     200.899534        4.702347        4.702347\n",
              "4   4     76     39  ...     156.627744        3.145122        3.145122\n",
              "\n",
              "[5 rows x 41 columns]"
            ]
          },
          "metadata": {
            "tags": []
          },
          "execution_count": 30
        }
      ]
    },
    {
      "cell_type": "code",
      "metadata": {
        "colab": {
          "base_uri": "https://localhost:8080/",
          "height": 223
        },
        "id": "P6M4akqf78lS",
        "outputId": "5501001e-44ea-4f81-cebb-80623b3a42ec"
      },
      "source": [
        "test_data_features.head()"
      ],
      "execution_count": 31,
      "outputs": [
        {
          "output_type": "execute_result",
          "data": {
            "text/html": [
              "<div>\n",
              "<style scoped>\n",
              "    .dataframe tbody tr th:only-of-type {\n",
              "        vertical-align: middle;\n",
              "    }\n",
              "\n",
              "    .dataframe tbody tr th {\n",
              "        vertical-align: top;\n",
              "    }\n",
              "\n",
              "    .dataframe thead th {\n",
              "        text-align: right;\n",
              "    }\n",
              "</style>\n",
              "<table border=\"1\" class=\"dataframe\">\n",
              "  <thead>\n",
              "    <tr style=\"text-align: right;\">\n",
              "      <th></th>\n",
              "      <th>test_id</th>\n",
              "      <th>q1len</th>\n",
              "      <th>q2len</th>\n",
              "      <th>diff_len</th>\n",
              "      <th>len_word_q1</th>\n",
              "      <th>len_word_q2</th>\n",
              "      <th>diff_words</th>\n",
              "      <th>caps_count_q1</th>\n",
              "      <th>caps_count_q2</th>\n",
              "      <th>diff_caps</th>\n",
              "      <th>len_char_q1</th>\n",
              "      <th>len_char_q2</th>\n",
              "      <th>diff_len_char</th>\n",
              "      <th>avg_world_len1</th>\n",
              "      <th>avg_world_len2</th>\n",
              "      <th>diff_avg_word</th>\n",
              "      <th>word_Common</th>\n",
              "      <th>word_Total</th>\n",
              "      <th>word_share</th>\n",
              "      <th>share_2_gram</th>\n",
              "      <th>cwc_min</th>\n",
              "      <th>cwc_max</th>\n",
              "      <th>csc_min</th>\n",
              "      <th>csc_max</th>\n",
              "      <th>ctc_min</th>\n",
              "      <th>ctc_max</th>\n",
              "      <th>last_word_eq</th>\n",
              "      <th>first_word_eq</th>\n",
              "      <th>abs_len_diff</th>\n",
              "      <th>mean_len</th>\n",
              "      <th>token_set_ratio</th>\n",
              "      <th>token_sort_ratio</th>\n",
              "      <th>fuzz_ratio</th>\n",
              "      <th>fuzz_partial_ratio</th>\n",
              "      <th>longest_substr_ratio</th>\n",
              "      <th>word_mover_dist</th>\n",
              "      <th>cosine_dist</th>\n",
              "      <th>cityblock_dist</th>\n",
              "      <th>canberra_dist</th>\n",
              "      <th>euclidean_dist</th>\n",
              "      <th>minkowski_dist</th>\n",
              "    </tr>\n",
              "  </thead>\n",
              "  <tbody>\n",
              "    <tr>\n",
              "      <th>0</th>\n",
              "      <td>0</td>\n",
              "      <td>57</td>\n",
              "      <td>68</td>\n",
              "      <td>-11</td>\n",
              "      <td>11</td>\n",
              "      <td>14</td>\n",
              "      <td>-3</td>\n",
              "      <td>5</td>\n",
              "      <td>4</td>\n",
              "      <td>1</td>\n",
              "      <td>47</td>\n",
              "      <td>55</td>\n",
              "      <td>-8</td>\n",
              "      <td>4.272727</td>\n",
              "      <td>3.928571</td>\n",
              "      <td>0.344156</td>\n",
              "      <td>2.0</td>\n",
              "      <td>24.0</td>\n",
              "      <td>0.083333</td>\n",
              "      <td>0.043478</td>\n",
              "      <td>0.599988</td>\n",
              "      <td>0.333330</td>\n",
              "      <td>0.000000</td>\n",
              "      <td>0.000000</td>\n",
              "      <td>0.272725</td>\n",
              "      <td>0.214284</td>\n",
              "      <td>0</td>\n",
              "      <td>0</td>\n",
              "      <td>3</td>\n",
              "      <td>12.5</td>\n",
              "      <td>54</td>\n",
              "      <td>50</td>\n",
              "      <td>37</td>\n",
              "      <td>45</td>\n",
              "      <td>0.241379</td>\n",
              "      <td>5.377619</td>\n",
              "      <td>0.212743</td>\n",
              "      <td>32.914707</td>\n",
              "      <td>158.719900</td>\n",
              "      <td>2.450075</td>\n",
              "      <td>2.450075</td>\n",
              "    </tr>\n",
              "    <tr>\n",
              "      <th>1</th>\n",
              "      <td>1</td>\n",
              "      <td>66</td>\n",
              "      <td>43</td>\n",
              "      <td>23</td>\n",
              "      <td>14</td>\n",
              "      <td>7</td>\n",
              "      <td>7</td>\n",
              "      <td>3</td>\n",
              "      <td>1</td>\n",
              "      <td>2</td>\n",
              "      <td>53</td>\n",
              "      <td>37</td>\n",
              "      <td>16</td>\n",
              "      <td>3.785714</td>\n",
              "      <td>5.285714</td>\n",
              "      <td>-1.500000</td>\n",
              "      <td>4.0</td>\n",
              "      <td>21.0</td>\n",
              "      <td>0.190476</td>\n",
              "      <td>0.105263</td>\n",
              "      <td>0.799984</td>\n",
              "      <td>0.571420</td>\n",
              "      <td>0.499975</td>\n",
              "      <td>0.142855</td>\n",
              "      <td>0.714276</td>\n",
              "      <td>0.357140</td>\n",
              "      <td>0</td>\n",
              "      <td>0</td>\n",
              "      <td>7</td>\n",
              "      <td>10.5</td>\n",
              "      <td>82</td>\n",
              "      <td>58</td>\n",
              "      <td>47</td>\n",
              "      <td>56</td>\n",
              "      <td>0.386364</td>\n",
              "      <td>2.885574</td>\n",
              "      <td>0.082187</td>\n",
              "      <td>22.012440</td>\n",
              "      <td>127.354115</td>\n",
              "      <td>1.689144</td>\n",
              "      <td>1.689144</td>\n",
              "    </tr>\n",
              "    <tr>\n",
              "      <th>2</th>\n",
              "      <td>2</td>\n",
              "      <td>60</td>\n",
              "      <td>29</td>\n",
              "      <td>31</td>\n",
              "      <td>14</td>\n",
              "      <td>6</td>\n",
              "      <td>8</td>\n",
              "      <td>4</td>\n",
              "      <td>2</td>\n",
              "      <td>2</td>\n",
              "      <td>47</td>\n",
              "      <td>24</td>\n",
              "      <td>23</td>\n",
              "      <td>3.357143</td>\n",
              "      <td>4.000000</td>\n",
              "      <td>-0.642857</td>\n",
              "      <td>4.0</td>\n",
              "      <td>18.0</td>\n",
              "      <td>0.222222</td>\n",
              "      <td>0.055556</td>\n",
              "      <td>0.999967</td>\n",
              "      <td>0.499992</td>\n",
              "      <td>0.666644</td>\n",
              "      <td>0.333328</td>\n",
              "      <td>0.833319</td>\n",
              "      <td>0.357140</td>\n",
              "      <td>0</td>\n",
              "      <td>1</td>\n",
              "      <td>8</td>\n",
              "      <td>10.0</td>\n",
              "      <td>92</td>\n",
              "      <td>55</td>\n",
              "      <td>57</td>\n",
              "      <td>83</td>\n",
              "      <td>0.400000</td>\n",
              "      <td>3.004117</td>\n",
              "      <td>0.094164</td>\n",
              "      <td>26.997807</td>\n",
              "      <td>123.466020</td>\n",
              "      <td>1.951432</td>\n",
              "      <td>1.951432</td>\n",
              "    </tr>\n",
              "    <tr>\n",
              "      <th>3</th>\n",
              "      <td>3</td>\n",
              "      <td>27</td>\n",
              "      <td>17</td>\n",
              "      <td>10</td>\n",
              "      <td>4</td>\n",
              "      <td>3</td>\n",
              "      <td>1</td>\n",
              "      <td>1</td>\n",
              "      <td>1</td>\n",
              "      <td>0</td>\n",
              "      <td>24</td>\n",
              "      <td>15</td>\n",
              "      <td>9</td>\n",
              "      <td>6.000000</td>\n",
              "      <td>5.000000</td>\n",
              "      <td>1.000000</td>\n",
              "      <td>0.0</td>\n",
              "      <td>7.0</td>\n",
              "      <td>0.000000</td>\n",
              "      <td>0.000000</td>\n",
              "      <td>0.000000</td>\n",
              "      <td>0.000000</td>\n",
              "      <td>0.000000</td>\n",
              "      <td>0.000000</td>\n",
              "      <td>0.000000</td>\n",
              "      <td>0.000000</td>\n",
              "      <td>0</td>\n",
              "      <td>0</td>\n",
              "      <td>1</td>\n",
              "      <td>3.5</td>\n",
              "      <td>52</td>\n",
              "      <td>52</td>\n",
              "      <td>52</td>\n",
              "      <td>53</td>\n",
              "      <td>0.277778</td>\n",
              "      <td>7.164147</td>\n",
              "      <td>0.391609</td>\n",
              "      <td>73.987938</td>\n",
              "      <td>177.060048</td>\n",
              "      <td>5.201015</td>\n",
              "      <td>5.201015</td>\n",
              "    </tr>\n",
              "    <tr>\n",
              "      <th>4</th>\n",
              "      <td>4</td>\n",
              "      <td>32</td>\n",
              "      <td>30</td>\n",
              "      <td>2</td>\n",
              "      <td>4</td>\n",
              "      <td>6</td>\n",
              "      <td>-2</td>\n",
              "      <td>1</td>\n",
              "      <td>2</td>\n",
              "      <td>-1</td>\n",
              "      <td>29</td>\n",
              "      <td>25</td>\n",
              "      <td>4</td>\n",
              "      <td>7.250000</td>\n",
              "      <td>4.166667</td>\n",
              "      <td>3.083333</td>\n",
              "      <td>3.0</td>\n",
              "      <td>10.0</td>\n",
              "      <td>0.300000</td>\n",
              "      <td>0.125000</td>\n",
              "      <td>0.999950</td>\n",
              "      <td>0.666644</td>\n",
              "      <td>0.999900</td>\n",
              "      <td>0.249994</td>\n",
              "      <td>0.749981</td>\n",
              "      <td>0.499992</td>\n",
              "      <td>1</td>\n",
              "      <td>1</td>\n",
              "      <td>2</td>\n",
              "      <td>5.0</td>\n",
              "      <td>74</td>\n",
              "      <td>66</td>\n",
              "      <td>70</td>\n",
              "      <td>73</td>\n",
              "      <td>0.483871</td>\n",
              "      <td>3.298204</td>\n",
              "      <td>0.247688</td>\n",
              "      <td>40.107086</td>\n",
              "      <td>147.543857</td>\n",
              "      <td>3.130887</td>\n",
              "      <td>3.130887</td>\n",
              "    </tr>\n",
              "  </tbody>\n",
              "</table>\n",
              "</div>"
            ],
            "text/plain": [
              "   test_id  q1len  q2len  ...  canberra_dist  euclidean_dist  minkowski_dist\n",
              "0        0     57     68  ...     158.719900        2.450075        2.450075\n",
              "1        1     66     43  ...     127.354115        1.689144        1.689144\n",
              "2        2     60     29  ...     123.466020        1.951432        1.951432\n",
              "3        3     27     17  ...     177.060048        5.201015        5.201015\n",
              "4        4     32     30  ...     147.543857        3.130887        3.130887\n",
              "\n",
              "[5 rows x 41 columns]"
            ]
          },
          "metadata": {
            "tags": []
          },
          "execution_count": 31
        }
      ]
    },
    {
      "cell_type": "code",
      "metadata": {
        "colab": {
          "base_uri": "https://localhost:8080/"
        },
        "id": "HPAcb3907-sk",
        "outputId": "aadc15f4-6e06-4f19-ba8c-6fd7615157c5"
      },
      "source": [
        "df_train['id'] = train_data_features['id']\n",
        "df_test['test_id'] = test_data_features['test_id']\n",
        "\n",
        "\n",
        "df_train = df_train.merge(train_data_features, on='id', how='left')\n",
        "leak = df_train.drop(['id','qid1','qid2','question1','question2','is_duplicate'], axis=1)\n",
        "df_test = df_test.merge(test_data_features, on='test_id', how='left')\n",
        "test_leak = df_test.drop(['test_id','question1','question2'], axis=1)\n",
        "print('Features created')"
      ],
      "execution_count": 32,
      "outputs": [
        {
          "output_type": "stream",
          "text": [
            "Features created\n"
          ],
          "name": "stdout"
        }
      ]
    },
    {
      "cell_type": "code",
      "metadata": {
        "colab": {
          "base_uri": "https://localhost:8080/",
          "height": 223
        },
        "id": "8asPb4lP8DeR",
        "outputId": "aba19df8-8fc7-4c11-b10f-9a9555a69085"
      },
      "source": [
        "leak.head()"
      ],
      "execution_count": 33,
      "outputs": [
        {
          "output_type": "execute_result",
          "data": {
            "text/html": [
              "<div>\n",
              "<style scoped>\n",
              "    .dataframe tbody tr th:only-of-type {\n",
              "        vertical-align: middle;\n",
              "    }\n",
              "\n",
              "    .dataframe tbody tr th {\n",
              "        vertical-align: top;\n",
              "    }\n",
              "\n",
              "    .dataframe thead th {\n",
              "        text-align: right;\n",
              "    }\n",
              "</style>\n",
              "<table border=\"1\" class=\"dataframe\">\n",
              "  <thead>\n",
              "    <tr style=\"text-align: right;\">\n",
              "      <th></th>\n",
              "      <th>q1_q2_intersect</th>\n",
              "      <th>ques1_freq</th>\n",
              "      <th>ques2_freq</th>\n",
              "      <th>q1len</th>\n",
              "      <th>q2len</th>\n",
              "      <th>diff_len</th>\n",
              "      <th>len_word_q1</th>\n",
              "      <th>len_word_q2</th>\n",
              "      <th>diff_words</th>\n",
              "      <th>caps_count_q1</th>\n",
              "      <th>caps_count_q2</th>\n",
              "      <th>diff_caps</th>\n",
              "      <th>len_char_q1</th>\n",
              "      <th>len_char_q2</th>\n",
              "      <th>diff_len_char</th>\n",
              "      <th>avg_world_len1</th>\n",
              "      <th>avg_world_len2</th>\n",
              "      <th>diff_avg_word</th>\n",
              "      <th>word_Common</th>\n",
              "      <th>word_Total</th>\n",
              "      <th>word_share</th>\n",
              "      <th>share_2_gram</th>\n",
              "      <th>cwc_min</th>\n",
              "      <th>cwc_max</th>\n",
              "      <th>csc_min</th>\n",
              "      <th>csc_max</th>\n",
              "      <th>ctc_min</th>\n",
              "      <th>ctc_max</th>\n",
              "      <th>last_word_eq</th>\n",
              "      <th>first_word_eq</th>\n",
              "      <th>abs_len_diff</th>\n",
              "      <th>mean_len</th>\n",
              "      <th>token_set_ratio</th>\n",
              "      <th>token_sort_ratio</th>\n",
              "      <th>fuzz_ratio</th>\n",
              "      <th>fuzz_partial_ratio</th>\n",
              "      <th>longest_substr_ratio</th>\n",
              "      <th>word_mover_dist</th>\n",
              "      <th>cosine_dist</th>\n",
              "      <th>cityblock_dist</th>\n",
              "      <th>canberra_dist</th>\n",
              "      <th>euclidean_dist</th>\n",
              "      <th>minkowski_dist</th>\n",
              "    </tr>\n",
              "  </thead>\n",
              "  <tbody>\n",
              "    <tr>\n",
              "      <th>0</th>\n",
              "      <td>0</td>\n",
              "      <td>1</td>\n",
              "      <td>1</td>\n",
              "      <td>66</td>\n",
              "      <td>57</td>\n",
              "      <td>9</td>\n",
              "      <td>14</td>\n",
              "      <td>12</td>\n",
              "      <td>2</td>\n",
              "      <td>1</td>\n",
              "      <td>1</td>\n",
              "      <td>0</td>\n",
              "      <td>53</td>\n",
              "      <td>46</td>\n",
              "      <td>7</td>\n",
              "      <td>3.785714</td>\n",
              "      <td>3.833333</td>\n",
              "      <td>-0.047619</td>\n",
              "      <td>10.0</td>\n",
              "      <td>23.0</td>\n",
              "      <td>0.434783</td>\n",
              "      <td>0.416667</td>\n",
              "      <td>0.999980</td>\n",
              "      <td>0.833319</td>\n",
              "      <td>0.999983</td>\n",
              "      <td>0.999983</td>\n",
              "      <td>0.916659</td>\n",
              "      <td>0.785709</td>\n",
              "      <td>0.0</td>\n",
              "      <td>1.0</td>\n",
              "      <td>2.0</td>\n",
              "      <td>13.0</td>\n",
              "      <td>100</td>\n",
              "      <td>93</td>\n",
              "      <td>93</td>\n",
              "      <td>100</td>\n",
              "      <td>0.982759</td>\n",
              "      <td>1.216034</td>\n",
              "      <td>0.031762</td>\n",
              "      <td>14.274065</td>\n",
              "      <td>91.483062</td>\n",
              "      <td>1.047253</td>\n",
              "      <td>1.047253</td>\n",
              "    </tr>\n",
              "    <tr>\n",
              "      <th>1</th>\n",
              "      <td>0</td>\n",
              "      <td>4</td>\n",
              "      <td>2</td>\n",
              "      <td>51</td>\n",
              "      <td>88</td>\n",
              "      <td>-37</td>\n",
              "      <td>8</td>\n",
              "      <td>13</td>\n",
              "      <td>-5</td>\n",
              "      <td>5</td>\n",
              "      <td>5</td>\n",
              "      <td>0</td>\n",
              "      <td>44</td>\n",
              "      <td>76</td>\n",
              "      <td>-32</td>\n",
              "      <td>5.500000</td>\n",
              "      <td>5.846154</td>\n",
              "      <td>-0.346154</td>\n",
              "      <td>4.0</td>\n",
              "      <td>20.0</td>\n",
              "      <td>0.200000</td>\n",
              "      <td>0.052632</td>\n",
              "      <td>0.799984</td>\n",
              "      <td>0.399996</td>\n",
              "      <td>0.749981</td>\n",
              "      <td>0.599988</td>\n",
              "      <td>0.699993</td>\n",
              "      <td>0.466664</td>\n",
              "      <td>0.0</td>\n",
              "      <td>1.0</td>\n",
              "      <td>5.0</td>\n",
              "      <td>12.5</td>\n",
              "      <td>86</td>\n",
              "      <td>63</td>\n",
              "      <td>66</td>\n",
              "      <td>75</td>\n",
              "      <td>0.596154</td>\n",
              "      <td>4.897662</td>\n",
              "      <td>0.266555</td>\n",
              "      <td>33.272633</td>\n",
              "      <td>149.670092</td>\n",
              "      <td>2.624989</td>\n",
              "      <td>2.624989</td>\n",
              "    </tr>\n",
              "    <tr>\n",
              "      <th>2</th>\n",
              "      <td>0</td>\n",
              "      <td>1</td>\n",
              "      <td>1</td>\n",
              "      <td>73</td>\n",
              "      <td>59</td>\n",
              "      <td>14</td>\n",
              "      <td>14</td>\n",
              "      <td>10</td>\n",
              "      <td>4</td>\n",
              "      <td>5</td>\n",
              "      <td>5</td>\n",
              "      <td>0</td>\n",
              "      <td>60</td>\n",
              "      <td>50</td>\n",
              "      <td>10</td>\n",
              "      <td>4.285714</td>\n",
              "      <td>5.000000</td>\n",
              "      <td>-0.714286</td>\n",
              "      <td>4.0</td>\n",
              "      <td>24.0</td>\n",
              "      <td>0.166667</td>\n",
              "      <td>0.045455</td>\n",
              "      <td>0.399992</td>\n",
              "      <td>0.333328</td>\n",
              "      <td>0.399992</td>\n",
              "      <td>0.249997</td>\n",
              "      <td>0.399996</td>\n",
              "      <td>0.285712</td>\n",
              "      <td>0.0</td>\n",
              "      <td>1.0</td>\n",
              "      <td>4.0</td>\n",
              "      <td>12.0</td>\n",
              "      <td>63</td>\n",
              "      <td>63</td>\n",
              "      <td>43</td>\n",
              "      <td>47</td>\n",
              "      <td>0.166667</td>\n",
              "      <td>4.011556</td>\n",
              "      <td>0.118900</td>\n",
              "      <td>28.457512</td>\n",
              "      <td>129.214660</td>\n",
              "      <td>2.140298</td>\n",
              "      <td>2.140298</td>\n",
              "    </tr>\n",
              "    <tr>\n",
              "      <th>3</th>\n",
              "      <td>0</td>\n",
              "      <td>1</td>\n",
              "      <td>1</td>\n",
              "      <td>50</td>\n",
              "      <td>65</td>\n",
              "      <td>-15</td>\n",
              "      <td>11</td>\n",
              "      <td>9</td>\n",
              "      <td>2</td>\n",
              "      <td>4</td>\n",
              "      <td>1</td>\n",
              "      <td>3</td>\n",
              "      <td>40</td>\n",
              "      <td>57</td>\n",
              "      <td>-17</td>\n",
              "      <td>3.636364</td>\n",
              "      <td>6.333333</td>\n",
              "      <td>-2.696970</td>\n",
              "      <td>0.0</td>\n",
              "      <td>19.0</td>\n",
              "      <td>0.000000</td>\n",
              "      <td>0.000000</td>\n",
              "      <td>0.000000</td>\n",
              "      <td>0.000000</td>\n",
              "      <td>0.000000</td>\n",
              "      <td>0.000000</td>\n",
              "      <td>0.000000</td>\n",
              "      <td>0.000000</td>\n",
              "      <td>0.0</td>\n",
              "      <td>0.0</td>\n",
              "      <td>2.0</td>\n",
              "      <td>12.0</td>\n",
              "      <td>28</td>\n",
              "      <td>24</td>\n",
              "      <td>9</td>\n",
              "      <td>14</td>\n",
              "      <td>0.039216</td>\n",
              "      <td>7.514702</td>\n",
              "      <td>0.619671</td>\n",
              "      <td>62.016426</td>\n",
              "      <td>200.899534</td>\n",
              "      <td>4.702347</td>\n",
              "      <td>4.702347</td>\n",
              "    </tr>\n",
              "    <tr>\n",
              "      <th>4</th>\n",
              "      <td>0</td>\n",
              "      <td>3</td>\n",
              "      <td>1</td>\n",
              "      <td>76</td>\n",
              "      <td>39</td>\n",
              "      <td>37</td>\n",
              "      <td>13</td>\n",
              "      <td>7</td>\n",
              "      <td>6</td>\n",
              "      <td>1</td>\n",
              "      <td>1</td>\n",
              "      <td>0</td>\n",
              "      <td>64</td>\n",
              "      <td>33</td>\n",
              "      <td>31</td>\n",
              "      <td>4.923077</td>\n",
              "      <td>4.714286</td>\n",
              "      <td>0.208791</td>\n",
              "      <td>2.0</td>\n",
              "      <td>20.0</td>\n",
              "      <td>0.100000</td>\n",
              "      <td>0.000000</td>\n",
              "      <td>0.399992</td>\n",
              "      <td>0.199998</td>\n",
              "      <td>0.999950</td>\n",
              "      <td>0.666644</td>\n",
              "      <td>0.571420</td>\n",
              "      <td>0.307690</td>\n",
              "      <td>0.0</td>\n",
              "      <td>1.0</td>\n",
              "      <td>6.0</td>\n",
              "      <td>10.0</td>\n",
              "      <td>67</td>\n",
              "      <td>47</td>\n",
              "      <td>35</td>\n",
              "      <td>56</td>\n",
              "      <td>0.175000</td>\n",
              "      <td>6.257260</td>\n",
              "      <td>0.244168</td>\n",
              "      <td>40.127296</td>\n",
              "      <td>156.627744</td>\n",
              "      <td>3.145122</td>\n",
              "      <td>3.145122</td>\n",
              "    </tr>\n",
              "  </tbody>\n",
              "</table>\n",
              "</div>"
            ],
            "text/plain": [
              "   q1_q2_intersect  ques1_freq  ...  euclidean_dist  minkowski_dist\n",
              "0                0           1  ...        1.047253        1.047253\n",
              "1                0           4  ...        2.624989        2.624989\n",
              "2                0           1  ...        2.140298        2.140298\n",
              "3                0           1  ...        4.702347        4.702347\n",
              "4                0           3  ...        3.145122        3.145122\n",
              "\n",
              "[5 rows x 43 columns]"
            ]
          },
          "metadata": {
            "tags": []
          },
          "execution_count": 33
        }
      ]
    },
    {
      "cell_type": "code",
      "metadata": {
        "colab": {
          "base_uri": "https://localhost:8080/",
          "height": 223
        },
        "id": "WutjZzSu8FqH",
        "outputId": "246734e2-8ea1-4a7d-b413-f3c810d6eff0"
      },
      "source": [
        "test_leak.head()"
      ],
      "execution_count": 34,
      "outputs": [
        {
          "output_type": "execute_result",
          "data": {
            "text/html": [
              "<div>\n",
              "<style scoped>\n",
              "    .dataframe tbody tr th:only-of-type {\n",
              "        vertical-align: middle;\n",
              "    }\n",
              "\n",
              "    .dataframe tbody tr th {\n",
              "        vertical-align: top;\n",
              "    }\n",
              "\n",
              "    .dataframe thead th {\n",
              "        text-align: right;\n",
              "    }\n",
              "</style>\n",
              "<table border=\"1\" class=\"dataframe\">\n",
              "  <thead>\n",
              "    <tr style=\"text-align: right;\">\n",
              "      <th></th>\n",
              "      <th>q1_q2_intersect</th>\n",
              "      <th>ques1_freq</th>\n",
              "      <th>ques2_freq</th>\n",
              "      <th>q1len</th>\n",
              "      <th>q2len</th>\n",
              "      <th>diff_len</th>\n",
              "      <th>len_word_q1</th>\n",
              "      <th>len_word_q2</th>\n",
              "      <th>diff_words</th>\n",
              "      <th>caps_count_q1</th>\n",
              "      <th>caps_count_q2</th>\n",
              "      <th>diff_caps</th>\n",
              "      <th>len_char_q1</th>\n",
              "      <th>len_char_q2</th>\n",
              "      <th>diff_len_char</th>\n",
              "      <th>avg_world_len1</th>\n",
              "      <th>avg_world_len2</th>\n",
              "      <th>diff_avg_word</th>\n",
              "      <th>word_Common</th>\n",
              "      <th>word_Total</th>\n",
              "      <th>word_share</th>\n",
              "      <th>share_2_gram</th>\n",
              "      <th>cwc_min</th>\n",
              "      <th>cwc_max</th>\n",
              "      <th>csc_min</th>\n",
              "      <th>csc_max</th>\n",
              "      <th>ctc_min</th>\n",
              "      <th>ctc_max</th>\n",
              "      <th>last_word_eq</th>\n",
              "      <th>first_word_eq</th>\n",
              "      <th>abs_len_diff</th>\n",
              "      <th>mean_len</th>\n",
              "      <th>token_set_ratio</th>\n",
              "      <th>token_sort_ratio</th>\n",
              "      <th>fuzz_ratio</th>\n",
              "      <th>fuzz_partial_ratio</th>\n",
              "      <th>longest_substr_ratio</th>\n",
              "      <th>word_mover_dist</th>\n",
              "      <th>cosine_dist</th>\n",
              "      <th>cityblock_dist</th>\n",
              "      <th>canberra_dist</th>\n",
              "      <th>euclidean_dist</th>\n",
              "      <th>minkowski_dist</th>\n",
              "    </tr>\n",
              "  </thead>\n",
              "  <tbody>\n",
              "    <tr>\n",
              "      <th>0</th>\n",
              "      <td>0</td>\n",
              "      <td>1</td>\n",
              "      <td>1</td>\n",
              "      <td>57</td>\n",
              "      <td>68</td>\n",
              "      <td>-11</td>\n",
              "      <td>11</td>\n",
              "      <td>14</td>\n",
              "      <td>-3</td>\n",
              "      <td>5</td>\n",
              "      <td>4</td>\n",
              "      <td>1</td>\n",
              "      <td>47</td>\n",
              "      <td>55</td>\n",
              "      <td>-8</td>\n",
              "      <td>4.272727</td>\n",
              "      <td>3.928571</td>\n",
              "      <td>0.344156</td>\n",
              "      <td>2.0</td>\n",
              "      <td>24.0</td>\n",
              "      <td>0.083333</td>\n",
              "      <td>0.043478</td>\n",
              "      <td>0.599988</td>\n",
              "      <td>0.333330</td>\n",
              "      <td>0.000000</td>\n",
              "      <td>0.000000</td>\n",
              "      <td>0.272725</td>\n",
              "      <td>0.214284</td>\n",
              "      <td>0</td>\n",
              "      <td>0</td>\n",
              "      <td>3</td>\n",
              "      <td>12.5</td>\n",
              "      <td>54</td>\n",
              "      <td>50</td>\n",
              "      <td>37</td>\n",
              "      <td>45</td>\n",
              "      <td>0.241379</td>\n",
              "      <td>5.377619</td>\n",
              "      <td>0.212743</td>\n",
              "      <td>32.914707</td>\n",
              "      <td>158.719900</td>\n",
              "      <td>2.450075</td>\n",
              "      <td>2.450075</td>\n",
              "    </tr>\n",
              "    <tr>\n",
              "      <th>1</th>\n",
              "      <td>0</td>\n",
              "      <td>1</td>\n",
              "      <td>1</td>\n",
              "      <td>66</td>\n",
              "      <td>43</td>\n",
              "      <td>23</td>\n",
              "      <td>14</td>\n",
              "      <td>7</td>\n",
              "      <td>7</td>\n",
              "      <td>3</td>\n",
              "      <td>1</td>\n",
              "      <td>2</td>\n",
              "      <td>53</td>\n",
              "      <td>37</td>\n",
              "      <td>16</td>\n",
              "      <td>3.785714</td>\n",
              "      <td>5.285714</td>\n",
              "      <td>-1.500000</td>\n",
              "      <td>4.0</td>\n",
              "      <td>21.0</td>\n",
              "      <td>0.190476</td>\n",
              "      <td>0.105263</td>\n",
              "      <td>0.799984</td>\n",
              "      <td>0.571420</td>\n",
              "      <td>0.499975</td>\n",
              "      <td>0.142855</td>\n",
              "      <td>0.714276</td>\n",
              "      <td>0.357140</td>\n",
              "      <td>0</td>\n",
              "      <td>0</td>\n",
              "      <td>7</td>\n",
              "      <td>10.5</td>\n",
              "      <td>82</td>\n",
              "      <td>58</td>\n",
              "      <td>47</td>\n",
              "      <td>56</td>\n",
              "      <td>0.386364</td>\n",
              "      <td>2.885574</td>\n",
              "      <td>0.082187</td>\n",
              "      <td>22.012440</td>\n",
              "      <td>127.354115</td>\n",
              "      <td>1.689144</td>\n",
              "      <td>1.689144</td>\n",
              "    </tr>\n",
              "    <tr>\n",
              "      <th>2</th>\n",
              "      <td>0</td>\n",
              "      <td>1</td>\n",
              "      <td>1</td>\n",
              "      <td>60</td>\n",
              "      <td>29</td>\n",
              "      <td>31</td>\n",
              "      <td>14</td>\n",
              "      <td>6</td>\n",
              "      <td>8</td>\n",
              "      <td>4</td>\n",
              "      <td>2</td>\n",
              "      <td>2</td>\n",
              "      <td>47</td>\n",
              "      <td>24</td>\n",
              "      <td>23</td>\n",
              "      <td>3.357143</td>\n",
              "      <td>4.000000</td>\n",
              "      <td>-0.642857</td>\n",
              "      <td>4.0</td>\n",
              "      <td>18.0</td>\n",
              "      <td>0.222222</td>\n",
              "      <td>0.055556</td>\n",
              "      <td>0.999967</td>\n",
              "      <td>0.499992</td>\n",
              "      <td>0.666644</td>\n",
              "      <td>0.333328</td>\n",
              "      <td>0.833319</td>\n",
              "      <td>0.357140</td>\n",
              "      <td>0</td>\n",
              "      <td>1</td>\n",
              "      <td>8</td>\n",
              "      <td>10.0</td>\n",
              "      <td>92</td>\n",
              "      <td>55</td>\n",
              "      <td>57</td>\n",
              "      <td>83</td>\n",
              "      <td>0.400000</td>\n",
              "      <td>3.004117</td>\n",
              "      <td>0.094164</td>\n",
              "      <td>26.997807</td>\n",
              "      <td>123.466020</td>\n",
              "      <td>1.951432</td>\n",
              "      <td>1.951432</td>\n",
              "    </tr>\n",
              "    <tr>\n",
              "      <th>3</th>\n",
              "      <td>0</td>\n",
              "      <td>1</td>\n",
              "      <td>1</td>\n",
              "      <td>27</td>\n",
              "      <td>17</td>\n",
              "      <td>10</td>\n",
              "      <td>4</td>\n",
              "      <td>3</td>\n",
              "      <td>1</td>\n",
              "      <td>1</td>\n",
              "      <td>1</td>\n",
              "      <td>0</td>\n",
              "      <td>24</td>\n",
              "      <td>15</td>\n",
              "      <td>9</td>\n",
              "      <td>6.000000</td>\n",
              "      <td>5.000000</td>\n",
              "      <td>1.000000</td>\n",
              "      <td>0.0</td>\n",
              "      <td>7.0</td>\n",
              "      <td>0.000000</td>\n",
              "      <td>0.000000</td>\n",
              "      <td>0.000000</td>\n",
              "      <td>0.000000</td>\n",
              "      <td>0.000000</td>\n",
              "      <td>0.000000</td>\n",
              "      <td>0.000000</td>\n",
              "      <td>0.000000</td>\n",
              "      <td>0</td>\n",
              "      <td>0</td>\n",
              "      <td>1</td>\n",
              "      <td>3.5</td>\n",
              "      <td>52</td>\n",
              "      <td>52</td>\n",
              "      <td>52</td>\n",
              "      <td>53</td>\n",
              "      <td>0.277778</td>\n",
              "      <td>7.164147</td>\n",
              "      <td>0.391609</td>\n",
              "      <td>73.987938</td>\n",
              "      <td>177.060048</td>\n",
              "      <td>5.201015</td>\n",
              "      <td>5.201015</td>\n",
              "    </tr>\n",
              "    <tr>\n",
              "      <th>4</th>\n",
              "      <td>0</td>\n",
              "      <td>1</td>\n",
              "      <td>1</td>\n",
              "      <td>32</td>\n",
              "      <td>30</td>\n",
              "      <td>2</td>\n",
              "      <td>4</td>\n",
              "      <td>6</td>\n",
              "      <td>-2</td>\n",
              "      <td>1</td>\n",
              "      <td>2</td>\n",
              "      <td>-1</td>\n",
              "      <td>29</td>\n",
              "      <td>25</td>\n",
              "      <td>4</td>\n",
              "      <td>7.250000</td>\n",
              "      <td>4.166667</td>\n",
              "      <td>3.083333</td>\n",
              "      <td>3.0</td>\n",
              "      <td>10.0</td>\n",
              "      <td>0.300000</td>\n",
              "      <td>0.125000</td>\n",
              "      <td>0.999950</td>\n",
              "      <td>0.666644</td>\n",
              "      <td>0.999900</td>\n",
              "      <td>0.249994</td>\n",
              "      <td>0.749981</td>\n",
              "      <td>0.499992</td>\n",
              "      <td>1</td>\n",
              "      <td>1</td>\n",
              "      <td>2</td>\n",
              "      <td>5.0</td>\n",
              "      <td>74</td>\n",
              "      <td>66</td>\n",
              "      <td>70</td>\n",
              "      <td>73</td>\n",
              "      <td>0.483871</td>\n",
              "      <td>3.298204</td>\n",
              "      <td>0.247688</td>\n",
              "      <td>40.107086</td>\n",
              "      <td>147.543857</td>\n",
              "      <td>3.130887</td>\n",
              "      <td>3.130887</td>\n",
              "    </tr>\n",
              "  </tbody>\n",
              "</table>\n",
              "</div>"
            ],
            "text/plain": [
              "   q1_q2_intersect  ques1_freq  ...  euclidean_dist  minkowski_dist\n",
              "0                0           1  ...        2.450075        2.450075\n",
              "1                0           1  ...        1.689144        1.689144\n",
              "2                0           1  ...        1.951432        1.951432\n",
              "3                0           1  ...        5.201015        5.201015\n",
              "4                0           1  ...        3.130887        3.130887\n",
              "\n",
              "[5 rows x 43 columns]"
            ]
          },
          "metadata": {
            "tags": []
          },
          "execution_count": 34
        }
      ]
    },
    {
      "cell_type": "code",
      "metadata": {
        "colab": {
          "base_uri": "https://localhost:8080/"
        },
        "id": "3ioOnVOP8HpN",
        "outputId": "e05aa867-e94c-41df-9a37-7bcd0e75dbaf"
      },
      "source": [
        "ss = StandardScaler()\n",
        "ss.fit(np.vstack((leak, test_leak)))\n",
        "leaks = ss.transform(leak)  \n",
        "test_leaks = ss.transform(test_leak) \n",
        "print('Normalization finished')"
      ],
      "execution_count": 35,
      "outputs": [
        {
          "output_type": "stream",
          "text": [
            "Normalization finished\n"
          ],
          "name": "stdout"
        }
      ]
    },
    {
      "cell_type": "code",
      "metadata": {
        "id": "cY7B4Tyj8Nmv"
      },
      "source": [
        "with open('ss.pickle', 'wb') as handle:\n",
        "    pickle.dump(ss, handle, protocol=pickle.HIGHEST_PROTOCOL)"
      ],
      "execution_count": 36,
      "outputs": []
    },
    {
      "cell_type": "code",
      "metadata": {
        "colab": {
          "base_uri": "https://localhost:8080/"
        },
        "id": "Wl7hvSLK8P7w",
        "outputId": "ce1b37dc-e5c5-4231-9bc4-936738ddd2b4"
      },
      "source": [
        "random_numbers = np.random.permutation(len(train_ques_1))\n",
        "train_question_indices = random_numbers[:int(len(train_ques_1) * (1 - VALIDATION_SPLIT_RATE))]\n",
        "test_question_indices = random_numbers[int(len(train_ques_1) * (1 - VALIDATION_SPLIT_RATE)):]\n",
        "print(train_question_indices)\n",
        "print(test_question_indices)"
      ],
      "execution_count": 37,
      "outputs": [
        {
          "output_type": "stream",
          "text": [
            "[232335 249416 249049 ... 102472 144122  61422]\n",
            "[105299 285844  13867 ... 149653 103308  91534]\n"
          ],
          "name": "stdout"
        }
      ]
    },
    {
      "cell_type": "code",
      "metadata": {
        "id": "3AY5W8yJ8Ry0"
      },
      "source": [
        "data_1_train = np.vstack((train_ques_1[train_question_indices], train_ques_2[train_question_indices]))\n",
        "data_2_train = np.vstack((train_ques_2[train_question_indices], train_ques_1[train_question_indices]))\n",
        "leaks_train = np.vstack((leaks[train_question_indices], leaks[train_question_indices]))\n",
        "labels_train = np.concatenate((train_labels[train_question_indices], train_labels[train_question_indices]))"
      ],
      "execution_count": 38,
      "outputs": []
    },
    {
      "cell_type": "code",
      "metadata": {
        "id": "UCH9cRh08UfG"
      },
      "source": [
        "data_1_val = np.vstack((train_ques_1[test_question_indices], train_ques_2[test_question_indices]))\n",
        "data_2_val = np.vstack((train_ques_2[test_question_indices], train_ques_1[test_question_indices]))\n",
        "leaks_val = np.vstack((leaks[test_question_indices], leaks[test_question_indices]))\n",
        "labels_val = np.concatenate((train_labels[test_question_indices], train_labels[test_question_indices]))"
      ],
      "execution_count": 39,
      "outputs": []
    },
    {
      "cell_type": "code",
      "metadata": {
        "id": "hKGRHpch8W7q"
      },
      "source": [
        "# weight_val = np.ones(len(labels_val))\n",
        "# weight_val *= 0.5\n",
        "# weight_val[labels_val==0] = 1.4"
      ],
      "execution_count": null,
      "outputs": []
    },
    {
      "cell_type": "code",
      "metadata": {
        "id": "sLDz6NkU8YtV"
      },
      "source": [
        "from keras.layers import Bidirectional"
      ],
      "execution_count": 40,
      "outputs": []
    },
    {
      "cell_type": "code",
      "metadata": {
        "colab": {
          "base_uri": "https://localhost:8080/"
        },
        "id": "GicPfV9-8gfe",
        "outputId": "a9b989cd-6117-4f4b-b9c2-25c10691547b"
      },
      "source": [
        "print('Preparing embedding matrix')\n",
        "\n",
        "num_words = min(MAX_NUM_WORDS, len(word_index))+1\n",
        "\n",
        "embedding_matrix = np.zeros((num_words, EMBEDDING_DIM))  \n",
        "for word, i in word_index.items():\n",
        "    embedding_vector = embeddings_index.get(word)\n",
        "    if embedding_vector is not None:\n",
        "        embedding_matrix[i] = embedding_vector"
      ],
      "execution_count": 41,
      "outputs": [
        {
          "output_type": "stream",
          "text": [
            "Preparing embedding matrix\n"
          ],
          "name": "stdout"
        }
      ]
    },
    {
      "cell_type": "code",
      "metadata": {
        "id": "y61a3Xlp8kek"
      },
      "source": [
        "#creating embedding layer\n",
        "emb_layer = Embedding(\n",
        "    input_dim=num_words,\n",
        "    output_dim=EMBEDDING_DIM,\n",
        "    weights=[embedding_matrix],\n",
        "    input_length=MAX_LEN,\n",
        "    trainable=False\n",
        ")  \n"
      ],
      "execution_count": 42,
      "outputs": []
    },
    {
      "cell_type": "code",
      "metadata": {
        "colab": {
          "base_uri": "https://localhost:8080/"
        },
        "id": "Ynk7XWyU8mc8",
        "outputId": "cd63218f-2958-4878-de75-c23fa398a770"
      },
      "source": [
        "\n",
        "#creating bilstm layer\n",
        "lstm_layer = Bidirectional(LSTM(HIDDEN_SIZE, dropout=DROPOUT_RATE_LSTM, recurrent_dropout=DROPOUT_RATE_LSTM))"
      ],
      "execution_count": 43,
      "outputs": [
        {
          "output_type": "stream",
          "text": [
            "WARNING:tensorflow:Layer lstm will not use cuDNN kernels since it doesn't meet the criteria. It will use a generic GPU kernel as fallback when running on GPU.\n",
            "WARNING:tensorflow:Layer lstm will not use cuDNN kernels since it doesn't meet the criteria. It will use a generic GPU kernel as fallback when running on GPU.\n",
            "WARNING:tensorflow:Layer lstm will not use cuDNN kernels since it doesn't meet the criteria. It will use a generic GPU kernel as fallback when running on GPU.\n"
          ],
          "name": "stdout"
        }
      ]
    },
    {
      "cell_type": "code",
      "metadata": {
        "id": "4J_VtvAu8png"
      },
      "source": [
        "#take questions as input\n",
        "seq1 = Input(shape=(MAX_LEN,), dtype='int32')\n",
        "seq2 = Input(shape=(MAX_LEN,), dtype='int32')"
      ],
      "execution_count": 44,
      "outputs": []
    },
    {
      "cell_type": "code",
      "metadata": {
        "id": "Bbv-PCkx8rdM"
      },
      "source": [
        "#attach embedding layer to the model\n",
        "emb1 = emb_layer(seq1)\n",
        "emb2 = emb_layer(seq2)"
      ],
      "execution_count": 45,
      "outputs": []
    },
    {
      "cell_type": "code",
      "metadata": {
        "id": "rVDz4cE38unJ"
      },
      "source": [
        "#attach cnn layer to the model\n",
        "cnn_a = Conv1D(filters=32, kernel_size=8,activation='relu')(emb1)\n",
        "cnn_b = Conv1D(filters=32, kernel_size=8,activation='relu')(emb2)\n",
        "cnn_a = GlobalMaxPooling1D()(cnn_a)\n",
        "cnn_b = GlobalMaxPooling1D()(cnn_b)\n",
        "cnn_con = concatenate([cnn_a,cnn_b])\n",
        "cnn_con = BatchNormalization()(cnn_con)\n",
        "cnn_con = Dropout(DROUPOUT_RATE_DENSE)(cnn_con)\n",
        "cnn_con = Dense(int(DENSE_SIZE), activation=ACTIVATION_FUNCTION)(cnn_con)"
      ],
      "execution_count": 46,
      "outputs": []
    },
    {
      "cell_type": "code",
      "metadata": {
        "id": "MIR5vUVX8wKP"
      },
      "source": [
        "#attach bilstm layer to the model\n",
        "lstm_a = lstm_layer(emb1)\n",
        "lstm_b = lstm_layer(emb1)"
      ],
      "execution_count": 47,
      "outputs": []
    },
    {
      "cell_type": "code",
      "metadata": {
        "id": "5Gktchc38x_i"
      },
      "source": [
        "#take features as input\n",
        "magic_input = Input(shape=(leaks.shape[1],))\n",
        "magic_dense = Dense(int(DENSE_SIZE), activation=ACTIVATION_FUNCTION)(magic_input)\n",
        "lstm_magic_cnn = concatenate([lstm_a,lstm_b,magic_dense])\n",
        "lstm_magic_cnn = BatchNormalization()(lstm_magic_cnn)\n",
        "lstm_magic_cnn = Dropout(DROPOUT_RATE_LSTM)(lstm_magic_cnn)\n",
        "lstm_magic_cnn = Dense(int(DENSE_SIZE), activation=ACTIVATION_FUNCTION)(lstm_magic_cnn)"
      ],
      "execution_count": 48,
      "outputs": []
    },
    {
      "cell_type": "code",
      "metadata": {
        "id": "qtyvX8B2814P"
      },
      "source": [
        "merged = concatenate([cnn_con,lstm_magic_cnn])\n",
        "# Batch normalization applies a transformation that maintains the mean output close to 0 and the output standard deviation close to 1.\n",
        "merged = BatchNormalization()(merged)\n",
        "merged = Dropout(DROUPOUT_RATE_DENSE)(merged)\n",
        "\n",
        "merged = Dense(DENSE_SIZE, activation=ACTIVATION_FUNCTION)(merged)\n",
        "merged = BatchNormalization()(merged)\n",
        "merged = Dropout(DROUPOUT_RATE_DENSE)(merged)\n",
        "\n",
        "preds = Dense(1, activation='sigmoid')(merged)"
      ],
      "execution_count": 49,
      "outputs": []
    },
    {
      "cell_type": "code",
      "metadata": {
        "id": "2I8IYcgJ849G"
      },
      "source": [
        "# class_weight = {0: 1.4, 1: 0.5}"
      ],
      "execution_count": null,
      "outputs": []
    },
    {
      "cell_type": "code",
      "metadata": {
        "colab": {
          "base_uri": "https://localhost:8080/"
        },
        "id": "BfHVLcD7oKyW",
        "outputId": "9903a8e4-53a2-41a1-9001-1595de8f530f"
      },
      "source": [
        "!pip install keras-visualizer"
      ],
      "execution_count": 50,
      "outputs": [
        {
          "output_type": "stream",
          "text": [
            "Collecting keras-visualizer\n",
            "  Downloading https://files.pythonhosted.org/packages/7f/33/d95aabf4a19ba02d6800f9f7b34d614b1bfa1f2da2b08a0897df08d2cfc4/keras_visualizer-2.4-py3-none-any.whl\n",
            "Installing collected packages: keras-visualizer\n",
            "Successfully installed keras-visualizer-2.4\n"
          ],
          "name": "stdout"
        }
      ]
    },
    {
      "cell_type": "code",
      "metadata": {
        "id": "iNTvnO2ToRDS"
      },
      "source": [
        "from keras_visualizer import visualizer  "
      ],
      "execution_count": 51,
      "outputs": []
    },
    {
      "cell_type": "code",
      "metadata": {
        "colab": {
          "base_uri": "https://localhost:8080/"
        },
        "id": "qhS7Bdpu86n-",
        "outputId": "6554a486-53a1-4d95-a157-0acc5b91731e"
      },
      "source": [
        "model = Model(inputs=[seq1, seq2, magic_input], outputs=preds)\n",
        "model.compile(loss='binary_crossentropy', optimizer='adam', metrics=['acc'])\n",
        "\n",
        "model.summary()"
      ],
      "execution_count": 52,
      "outputs": [
        {
          "output_type": "stream",
          "text": [
            "Model: \"model\"\n",
            "__________________________________________________________________________________________________\n",
            "Layer (type)                    Output Shape         Param #     Connected to                     \n",
            "==================================================================================================\n",
            "input_1 (InputLayer)            [(None, 60)]         0                                            \n",
            "__________________________________________________________________________________________________\n",
            "input_2 (InputLayer)            [(None, 60)]         0                                            \n",
            "__________________________________________________________________________________________________\n",
            "embedding (Embedding)           (None, 60, 300)      25671000    input_1[0][0]                    \n",
            "                                                                 input_2[0][0]                    \n",
            "__________________________________________________________________________________________________\n",
            "conv1d (Conv1D)                 (None, 53, 32)       76832       embedding[0][0]                  \n",
            "__________________________________________________________________________________________________\n",
            "conv1d_1 (Conv1D)               (None, 53, 32)       76832       embedding[1][0]                  \n",
            "__________________________________________________________________________________________________\n",
            "input_3 (InputLayer)            [(None, 43)]         0                                            \n",
            "__________________________________________________________________________________________________\n",
            "global_max_pooling1d (GlobalMax (None, 32)           0           conv1d[0][0]                     \n",
            "__________________________________________________________________________________________________\n",
            "global_max_pooling1d_1 (GlobalM (None, 32)           0           conv1d_1[0][0]                   \n",
            "__________________________________________________________________________________________________\n",
            "bidirectional (Bidirectional)   (None, 360)          692640      embedding[0][0]                  \n",
            "                                                                 embedding[0][0]                  \n",
            "__________________________________________________________________________________________________\n",
            "dense_1 (Dense)                 (None, 128)          5632        input_3[0][0]                    \n",
            "__________________________________________________________________________________________________\n",
            "concatenate (Concatenate)       (None, 64)           0           global_max_pooling1d[0][0]       \n",
            "                                                                 global_max_pooling1d_1[0][0]     \n",
            "__________________________________________________________________________________________________\n",
            "concatenate_1 (Concatenate)     (None, 848)          0           bidirectional[0][0]              \n",
            "                                                                 bidirectional[1][0]              \n",
            "                                                                 dense_1[0][0]                    \n",
            "__________________________________________________________________________________________________\n",
            "batch_normalization (BatchNorma (None, 64)           256         concatenate[0][0]                \n",
            "__________________________________________________________________________________________________\n",
            "batch_normalization_1 (BatchNor (None, 848)          3392        concatenate_1[0][0]              \n",
            "__________________________________________________________________________________________________\n",
            "dropout (Dropout)               (None, 64)           0           batch_normalization[0][0]        \n",
            "__________________________________________________________________________________________________\n",
            "dropout_1 (Dropout)             (None, 848)          0           batch_normalization_1[0][0]      \n",
            "__________________________________________________________________________________________________\n",
            "dense (Dense)                   (None, 128)          8320        dropout[0][0]                    \n",
            "__________________________________________________________________________________________________\n",
            "dense_2 (Dense)                 (None, 128)          108672      dropout_1[0][0]                  \n",
            "__________________________________________________________________________________________________\n",
            "concatenate_2 (Concatenate)     (None, 256)          0           dense[0][0]                      \n",
            "                                                                 dense_2[0][0]                    \n",
            "__________________________________________________________________________________________________\n",
            "batch_normalization_2 (BatchNor (None, 256)          1024        concatenate_2[0][0]              \n",
            "__________________________________________________________________________________________________\n",
            "dropout_2 (Dropout)             (None, 256)          0           batch_normalization_2[0][0]      \n",
            "__________________________________________________________________________________________________\n",
            "dense_3 (Dense)                 (None, 128)          32896       dropout_2[0][0]                  \n",
            "__________________________________________________________________________________________________\n",
            "batch_normalization_3 (BatchNor (None, 128)          512         dense_3[0][0]                    \n",
            "__________________________________________________________________________________________________\n",
            "dropout_3 (Dropout)             (None, 128)          0           batch_normalization_3[0][0]      \n",
            "__________________________________________________________________________________________________\n",
            "dense_4 (Dense)                 (None, 1)            129         dropout_3[0][0]                  \n",
            "==================================================================================================\n",
            "Total params: 26,678,137\n",
            "Trainable params: 1,004,545\n",
            "Non-trainable params: 25,673,592\n",
            "__________________________________________________________________________________________________\n"
          ],
          "name": "stdout"
        }
      ]
    },
    {
      "cell_type": "code",
      "metadata": {
        "colab": {
          "base_uri": "https://localhost:8080/",
          "height": 946
        },
        "id": "1sX2jpRF89HD",
        "outputId": "115d8a7d-67e4-461f-f6a4-50c298ef2143"
      },
      "source": [
        "from keras.utils.vis_utils import plot_model\n",
        "plot_model(model, to_file='model_plot.png', show_shapes=True, show_layer_names=True)"
      ],
      "execution_count": 53,
      "outputs": [
        {
          "output_type": "execute_result",
          "data": {
            "image/png": "[encoded data removed]",
            "text/plain": [
              "<IPython.core.display.Image object>"
            ]
          },
          "metadata": {
            "tags": []
          },
          "execution_count": 53
        }
      ]
    },
    {
      "cell_type": "code",
      "metadata": {
        "id": "iDO3qr3p9CP2"
      },
      "source": [
        "early_stopping =EarlyStopping(monitor='val_loss', patience=10)\n",
        "bst_model_path = 'lstm_featured_new_file_2.h5' \n",
        "model_checkpoint = ModelCheckpoint(bst_model_path, save_best_only=True, save_weights_only=True)"
      ],
      "execution_count": 54,
      "outputs": []
    },
    {
      "cell_type": "code",
      "metadata": {
        "colab": {
          "base_uri": "https://localhost:8080/"
        },
        "id": "pe6IP6ik9Eg8",
        "outputId": "4d806012-9e4b-4ac3-b06a-0bdabc08f600"
      },
      "source": [
        "hist = model.fit([data_1_train, data_2_train, leaks_train], labels_train, \\\n",
        "        validation_data=([data_1_val, data_2_val, leaks_val], labels_val), \\\n",
        "        epochs=3,  batch_size = 2048, shuffle=True, \\\n",
        "        callbacks=[early_stopping, model_checkpoint])\n",
        "\n",
        "model.load_weights(bst_model_path) \n",
        "bst_val_score = min(hist.history['val_loss'])"
      ],
      "execution_count": 56,
      "outputs": [
        {
          "output_type": "stream",
          "text": [
            "Epoch 1/3\n",
            "356/356 [==============================] - 372s 1s/step - loss: 0.3851 - acc: 0.8125 - val_loss: 0.2722 - val_acc: 0.8720\n",
            "Epoch 2/3\n",
            "356/356 [==============================] - 364s 1s/step - loss: 0.2742 - acc: 0.8722 - val_loss: 0.2498 - val_acc: 0.8859\n",
            "Epoch 3/3\n",
            "356/356 [==============================] - 365s 1s/step - loss: 0.2575 - acc: 0.8812 - val_loss: 0.2427 - val_acc: 0.8885\n"
          ],
          "name": "stdout"
        }
      ]
    },
    {
      "cell_type": "code",
      "metadata": {
        "id": "z8oug1Iz9Jbu"
      },
      "source": [
        "model.save('/content/drive/MyDrive/Project/model.h5')"
      ],
      "execution_count": 57,
      "outputs": []
    },
    {
      "cell_type": "code",
      "metadata": {
        "colab": {
          "base_uri": "https://localhost:8080/",
          "height": 295
        },
        "id": "SqqcCqPU9VFK",
        "outputId": "10bdc648-224b-4ae5-89a2-0f8cb9c42bdc"
      },
      "source": [
        "plt.plot(hist.history['acc'])\n",
        "plt.plot(hist.history['val_acc'])\n",
        "plt.title('model accuracy')\n",
        "plt.ylabel('accuracy')\n",
        "plt.xlabel('epoch')\n",
        "plt.legend(['train_1', 'test_1'], loc='upper left')\n",
        "plt.show()"
      ],
      "execution_count": 58,
      "outputs": [
        {
          "output_type": "display_data",
          "data": {
            "image/png": "[encoded data removed]",
            "text/plain": [
              "<Figure size 432x288 with 1 Axes>"
            ]
          },
          "metadata": {
            "tags": [],
            "needs_background": "light"
          }
        }
      ]
    },
    {
      "cell_type": "code",
      "metadata": {
        "colab": {
          "base_uri": "https://localhost:8080/",
          "height": 295
        },
        "id": "vl4Q9yL09bhS",
        "outputId": "7ada63a6-4fcb-407a-bad3-afdfdc8e2c76"
      },
      "source": [
        "plt.plot(hist.history['loss'])\n",
        "plt.plot(hist.history['val_loss'])\n",
        "plt.title('model loss')\n",
        "plt.ylabel('loss')\n",
        "plt.xlabel('epoch')\n",
        "plt.legend(['train_1', 'test_1'], loc='upper left')\n",
        "plt.show()"
      ],
      "execution_count": 59,
      "outputs": [
        {
          "output_type": "display_data",
          "data": {
            "image/png": "[encoded data removed]",
            "text/plain": [
              "<Figure size 432x288 with 1 Axes>"
            ]
          },
          "metadata": {
            "tags": [],
            "needs_background": "light"
          }
        }
      ]
    },
    {
      "cell_type": "code",
      "metadata": {
        "colab": {
          "base_uri": "https://localhost:8080/"
        },
        "id": "CCFzPlG3YPdO",
        "outputId": "2db4afa9-264d-4be0-aac7-d0e82298e575"
      },
      "source": [
        "# from keras.models import load_model\n",
        "# model = load_model('/content/drive/MyDrive/Project/new_test_model_7:30pm.h5')"
      ],
      "execution_count": null,
      "outputs": [
        {
          "output_type": "stream",
          "text": [
            "WARNING:tensorflow:Layer lstm_4 will not use cuDNN kernels since it doesn't meet the criteria. It will use a generic GPU kernel as fallback when running on GPU.\n",
            "WARNING:tensorflow:Layer lstm_4 will not use cuDNN kernels since it doesn't meet the criteria. It will use a generic GPU kernel as fallback when running on GPU.\n",
            "WARNING:tensorflow:Layer lstm_4 will not use cuDNN kernels since it doesn't meet the criteria. It will use a generic GPU kernel as fallback when running on GPU.\n"
          ],
          "name": "stdout"
        }
      ]
    },
    {
      "cell_type": "code",
      "metadata": {
        "colab": {
          "base_uri": "https://localhost:8080/"
        },
        "id": "Lw6Y6vaRY90s",
        "outputId": "c842acb9-6bf2-4936-f3da-f599457c72db"
      },
      "source": [
        "model.evaluate([data_1_val,data_2_val,leaks_val],y = labels_val,verbose=1)"
      ],
      "execution_count": 60,
      "outputs": [
        {
          "output_type": "stream",
          "text": [
            "2527/2527 [==============================] - 152s 60ms/step - loss: 0.2427 - acc: 0.8885\n"
          ],
          "name": "stdout"
        },
        {
          "output_type": "execute_result",
          "data": {
            "text/plain": [
              "[0.24272093176841736, 0.8885302543640137]"
            ]
          },
          "metadata": {
            "tags": []
          },
          "execution_count": 60
        }
      ]
    },
    {
      "cell_type": "code",
      "metadata": {
        "id": "xKysT2hw9lzy"
      },
      "source": [
        "# print('Predict test data')\n",
        "\n",
        "# preds = model.predict([data_1_val,data_2_val,leaks_val], batch_size=8192, verbose=1,)\n",
        "# preds += model.predict([data_2_val, data_1_val, leaks_val], batch_size=8192, verbose=1)\n",
        "# preds /= 2"
      ],
      "execution_count": 1,
      "outputs": []
    },
    {
      "cell_type": "code",
      "metadata": {
        "id": "MwjOhY2yhSpA"
      },
      "source": [
        "# for i in range(0,len(preds)):\n",
        "#   if preds[i]>=0.5:\n",
        "#     preds[i]=1\n",
        "#   else:\n",
        "#     preds[i]=0"
      ],
      "execution_count": 2,
      "outputs": []
    },
    {
      "cell_type": "code",
      "metadata": {
        "id": "XbcxtuGbhalY"
      },
      "source": [
        "# df_train['preds_value'] = preds"
      ],
      "execution_count": 3,
      "outputs": []
    },
    {
      "cell_type": "code",
      "metadata": {
        "id": "mNTeiIMlhpNv"
      },
      "source": [
        "# df_train.head()"
      ],
      "execution_count": 4,
      "outputs": []
    },
    {
      "cell_type": "code",
      "metadata": {
        "id": "uAlmhaImhvxH"
      },
      "source": [
        "# from sklearn.metrics import confusion_matrix\n",
        "# import seaborn as sns\n",
        "# import matplotlib.pyplot as plt\n"
      ],
      "execution_count": 5,
      "outputs": []
    },
    {
      "cell_type": "code",
      "metadata": {
        "id": "9YBWggd2h01v"
      },
      "source": [
        "# cf_matrix = confusion_matrix(df_train['is_duplicate'], df_train['preds_value'])\n",
        "# print(cf_matrix)"
      ],
      "execution_count": 6,
      "outputs": []
    },
    {
      "cell_type": "code",
      "metadata": {
        "id": "6KJoM-Gch6R4"
      },
      "source": [
        "# group_names = ['True Neg','False Pos','False Neg','True Pos']\n",
        "# group_counts = [\"{0:0.0f}\".format(value) for value in\n",
        "#                 cf_matrix.flatten()]\n",
        "# group_percentages = [\"{0:.2%}\".format(value) for value in\n",
        "#                      cf_matrix.flatten()/np.sum(cf_matrix)]\n",
        "# labels = [f\"{v1}\\n{v2}\\n{v3}\" for v1, v2, v3 in\n",
        "#           zip(group_names,group_counts,group_percentages)]\n",
        "# labels = np.asarray(labels).reshape(2,2)\n",
        "# plt.subplots(figsize=(10,8))\n",
        "# sns.set(font_scale=2.0)\n",
        "# sns.heatmap(cf_matrix, annot=labels, fmt='', cmap='Blues')"
      ],
      "execution_count": 7,
      "outputs": []
    },
    {
      "cell_type": "code",
      "metadata": {
        "id": "IxOlPkx_99Uj"
      },
      "source": [
        "# result = []\n",
        "# for i,j,k in zip(df_test.question1.values,df_test.question2.values,preds.ravel()):\n",
        "#   result.append([i,j,k])"
      ],
      "execution_count": 8,
      "outputs": []
    },
    {
      "cell_type": "code",
      "metadata": {
        "id": "uRaoYfoc1vgg"
      },
      "source": [
        "# df = pd.DataFrame(data=result,columns=['question1','question2','predict'])"
      ],
      "execution_count": 9,
      "outputs": []
    },
    {
      "cell_type": "code",
      "metadata": {
        "id": "79sE-5qG1_CA"
      },
      "source": [
        "# df.head()"
      ],
      "execution_count": 10,
      "outputs": []
    },
    {
      "cell_type": "code",
      "metadata": {
        "id": "36jQskWX2A9P"
      },
      "source": [
        "# df.to_csv('predicted.csv')"
      ],
      "execution_count": 11,
      "outputs": []
    },
    {
      "cell_type": "code",
      "metadata": {
        "id": "jDh5T_4u2Gju"
      },
      "source": [
        "# msr_test = pd.read_table(r'/content/drive/MyDrive/msr_paraphrase_test.txt',error_bad_lines=False)"
      ],
      "execution_count": 12,
      "outputs": []
    },
    {
      "cell_type": "code",
      "metadata": {
        "id": "8EmnumLcffT5"
      },
      "source": [
        "# msr_test.head()"
      ],
      "execution_count": 13,
      "outputs": []
    },
    {
      "cell_type": "code",
      "metadata": {
        "id": "w0YyoBtBfhXx"
      },
      "source": [
        "# msr_test.to_csv('msr_paraphrase_test.csv')"
      ],
      "execution_count": 14,
      "outputs": []
    },
    {
      "cell_type": "code",
      "metadata": {
        "id": "55YxGzuEfsuL"
      },
      "source": [
        ""
      ],
      "execution_count": 14,
      "outputs": []
    }
  ]
}